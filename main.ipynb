{
 "cells": [
  {
   "cell_type": "code",
   "execution_count": 19,
   "metadata": {},
   "outputs": [],
   "source": [
    "import numpy as np\n",
    "import pandas as pd\n",
    "\n",
    "import torch\n",
    "import torch.nn as nn\n",
    "import torch.optim as optim\n",
    "import torch.nn.functional as F\n",
    "import matplotlib.pyplot as plt\n",
    "\n",
    "from Models import ConvEncoder, ConvDecoder, TrAE, Classifier, TrVAE, VAE_loss\n",
    "from Dataset import data_provider\n",
    "\n",
    "from torch.utils.data import DataLoader\n",
    "\n",
    "import time\n",
    "import copy\n",
    "from tqdm import tqdm"
   ]
  },
  {
   "cell_type": "code",
   "execution_count": 20,
   "metadata": {},
   "outputs": [
    {
     "name": "stdout",
     "output_type": "stream",
     "text": [
      "cuda:0\n"
     ]
    }
   ],
   "source": [
    "import easydict\n",
    "\n",
    "args = easydict.EasyDict({\n",
    "    'is_training': 1,\n",
    "    'model': 'A', # ['A', 'B']\n",
    "    ### data loader\n",
    "    'root_path': './Data/',\n",
    "    'data': '3D/new/',\n",
    "    'data_path': 'csv/',\n",
    "    'data_type': 'normal',\n",
    "    'checkpoints': './checkpoints/',\n",
    "    'Nsamples': 500, \n",
    "    'ratio': [7, 1, 2],\n",
    "    ### forecasting task\n",
    "    'seq_len': 2651, # [2144, 4576, 2651] # 3200 in paper\n",
    "    'label_len': 100,\n",
    "    'pred_len': 100,\n",
    "    'class_num': 5,\n",
    "    'individual': False,\n",
    "    ### transformer\n",
    "    'layer_num': 1,\n",
    "    'dropout': 0.1,\n",
    "    'max_len': 5000,\n",
    "    'd_model': 512,\n",
    "    'd_h': 8,\n",
    "    'd_ff': 2048,\n",
    "    ### Layers\n",
    "    'layer_num': 5,\n",
    "    'input_channel': 23,\n",
    "    't': 128, \n",
    "    'output_channel': 23,\n",
    "    'do_predict': True,\n",
    "    ### optimization\n",
    "    'num_workers': 8,\n",
    "    'itr': 1,\n",
    "    'train_epochs': 100,\n",
    "    'batch_size': 64,\n",
    "    'patience': 3,\n",
    "    'lr': 0.005,\n",
    "    ### GPU\n",
    "    'device': 'cuda:0',\n",
    "    'use_gpu': True,\n",
    "    'multi_gpu': True,\n",
    "})\n",
    "\n",
    "args.device = torch.device(\"cuda:0\" if torch.cuda.is_available() else \"cpu\")\n",
    "print(args.device)\n",
    "\n",
    "if args.data == '2D/':\n",
    "    args.data_path = ''\n",
    "    args.seq_len = 3200  # 3200 in paper\n",
    "    args.class_num = 4\n",
    "    args.input_channel = 2\n",
    "    args.t = 16\n",
    "    args.output_channel = 4\n",
    "    args.ratio = [3,1,1]\n",
    "elif args.data == '3D/old/':\n",
    "    args.data_path = ''\n",
    "    args.seq_len = 4576\n",
    "    args.input_channel = 3\n",
    "    args.t = 64\n",
    "    args.output_channel = 8\n",
    "elif args.data == '3D/new/':\n",
    "    args.input_channel = 3 # [3, 3, 3, 3, 3, 4, 4]\n",
    "    args.t = 16\n",
    "    args.output_channel = 4\n",
    "    \n",
    "if args.model == 'B':\n",
    "    args.seq_len = 400\n",
    "    \n",
    "temp_data_type = args.data_type\n",
    "args.data_type = 'normal'\n",
    "normal_train_set, normal_train_loader = data_provider(args, 'train')\n",
    "normal_train_C_set, normal_train_C_loader = data_provider(args, 'train_c')\n",
    "args.data_type = 'mixed'\n",
    "mixed_train_set, mixed_train_loader = data_provider(args, 'train')\n",
    "mixed_train_C_set, mixed_train_C_loader = data_provider(args, 'train_c')\n",
    "\n",
    "valid_set, valid_loader = data_provider(args, 'valid')\n",
    "test_set, test_loader = data_provider(args, 'test')\n",
    "\n",
    "normal_loaders = {'train': normal_train_loader, 'val': valid_loader, 'test': test_loader}\n",
    "normal_C_loaders = {'train': normal_train_C_loader, 'val': valid_loader, 'test': test_loader}\n",
    "mixed_loaders = {'train': mixed_train_loader, 'val': valid_loader, 'test': test_loader}\n",
    "mixed_C_loaders = {'train': mixed_train_C_loader, 'val': valid_loader, 'test': test_loader}"
   ]
  },
  {
   "attachments": {},
   "cell_type": "markdown",
   "metadata": {},
   "source": [
    "## Data Preprocessing"
   ]
  },
  {
   "attachments": {},
   "cell_type": "markdown",
   "metadata": {},
   "source": [
    "### 2-Dimensional Trajectory"
   ]
  },
  {
   "attachments": {},
   "cell_type": "markdown",
   "metadata": {},
   "source": [
    "원본 .pickle 로드 및 전처리 후 .npy 저장"
   ]
  },
  {
   "cell_type": "code",
   "execution_count": null,
   "metadata": {},
   "outputs": [],
   "source": [
    "import pickle\n",
    "'''\n",
    "Trajectory types: Normal, autopilot_lag, LOSrate_bias, LOSrate_delay\n",
    "Target distance = uniform(4500, 5500)\n",
    "states = [x, y, vm, path_angle] + 1 control input, 5 states\n",
    "label = 0, 1, 2, 3 for normal, autopilot_lag, LOSrate_bias, LOSrate_delay respectively, 4 classes\n",
    "minimum length of trajectory = 1360 (1360*0.01 = 13.6 seconds)\n",
    "maximum length of trajectory = 2131 (2131*0.01 = 21.31 seconds)\n",
    "fixed sequence length = 2144 (2400*0.01 = 24 seconds)\n",
    "'''\n",
    "start = time.time()\n",
    "with open('Data/2D/Trajectories.pickle', 'rb') as f:\n",
    "    Dataset = pickle.load(f)\n",
    "\n",
    "# normal = Dataset['normal_PNG']\n",
    "# lag = Dataset['autopilot_lag']\n",
    "# bias = Dataset['LOSrate_bias']\n",
    "# delay = Dataset['LOSrate_delay']\n",
    "seq_len = 2144\n",
    "\n",
    "label = 0\n",
    "x = []\n",
    "y = []\n",
    "for tr_type in Dataset:\n",
    "    states = Dataset[tr_type]['states']\n",
    "    inputs = Dataset[tr_type]['actions']\n",
    "    for i in range(len(states)):\n",
    "        tr = np.concatenate((states[i], np.insert(inputs[i], 0, 0).reshape(-1 ,1)), axis=1)\n",
    "        terminal = tr[-1].copy()\n",
    "        terminal[2]=terminal[4]=0\n",
    "        tr = np.concatenate((tr, np.tile(terminal, (seq_len-len(tr), 1))), axis=0)\n",
    "        x.append(tr)\n",
    "        y.append(label)\n",
    "    label += 1\n",
    "x = np.array(x)\n",
    "y = np.array(y).reshape(-1, 1)\n",
    "np.save('Data/2D/x.npy', x)\n",
    "np.save('Data/2D/y.npy', y)\n",
    "# x = np.load('Data/2D/x.npy')\n",
    "# y = np.load('Data/2D/y.npy')\n",
    "x.shape, y.shape, time.time()-start"
   ]
  },
  {
   "attachments": {},
   "cell_type": "markdown",
   "metadata": {},
   "source": [
    ".npy 로드"
   ]
  },
  {
   "cell_type": "code",
   "execution_count": null,
   "metadata": {},
   "outputs": [],
   "source": [
    "x = np.load('Data/2D/x.npy')\n",
    "y = np.load('Data/2D/y.npy')\n",
    "x.shape, y.shape, time.time()-start"
   ]
  },
  {
   "attachments": {},
   "cell_type": "markdown",
   "metadata": {},
   "source": [
    "### 3-Dimentional Trajectory old version"
   ]
  },
  {
   "attachments": {},
   "cell_type": "markdown",
   "metadata": {},
   "source": [
    "원본 .pickle 로드 및 전처리 후 .npy 저장"
   ]
  },
  {
   "cell_type": "code",
   "execution_count": null,
   "metadata": {},
   "outputs": [],
   "source": [
    "'''\n",
    "Trajectory types: Normal, Burn time, Xcp position, Thrust Tilt Angle, Fin bias\n",
    "Target Distance = 4000\n",
    "States = ['Accm_1', 'Accm_2', 'Accm_3', 'angEuler_1', 'angEuler_2', 'angEuler_3', 'Rmi_1', 'Rmi_2', 'Rmi_3', 'Vmi_1', 'Vmi_2', 'Vmi_3', 'Accm_Cmd_1', 'Accm_Cmd_2', 'Accm_Cmd_3', 'PhiCmd'], 16 states\n",
    "label = [0, 1, 2, 3, 4] for normal, burn_time, xcp_pos, thrust_tilt, fin_bias respectively, 5 classes\n",
    "minimum length of trajectory = 412 (412*0.01 = 4.12 seconds)\n",
    "maximum length of trajectory = 4569 (4569*0.01 = 45.69 seconds)\n",
    "fixed sequence length = 4576 (4576*0.01 = 45.76 seconds)\n",
    "'''\n",
    "start = time.time()\n",
    "seq_len = 4576\n",
    "x = []\n",
    "y = []\n",
    "\n",
    "for i, tr_type in enumerate(['Normal', 'Burntime', 'Xcpposition', \"ThrustTiltAngle\", 'Finbias']):\n",
    "    gid = pd.read_excel(f'Data/3D/old/Gid_{i+1}.xlsx', sheet_name=None)\n",
    "    msl = pd.read_excel(f'Data/3D/old/Msl_{i+1}.xlsx', sheet_name=None)\n",
    "    \n",
    "    for sheet in gid:\n",
    "        tr = pd.merge(msl[sheet][['Time', 'Rmi_1', 'Rmi_2', 'Rmi_3', 'Vmi_1', 'Vmi_2', 'Vmi_3', 'Accm_1', 'Accm_2', 'Accm_3', 'angEuler_1', 'angEuler_2', 'angEuler_3']], gid[sheet][['Time', 'Accm_Cmd_1', 'Accm_Cmd_2', 'Accm_Cmd_3', 'Phi_Cmd']]).to_numpy()[:, 1:]\n",
    "        terminal = tr[-1].copy()\n",
    "        terminal[3]=terminal[4]=terminal[5]=terminal[6]=terminal[7]=terminal[8]=terminal[12]=terminal[13]=terminal[14]=terminal[15]=0\n",
    "        tr = np.concatenate((tr, np.tile(terminal, (seq_len-len(tr), 1))), axis=0)\n",
    "        if sheet == 'Sheet1' and tr_type == 'Normal':\n",
    "            x = [tr for _ in range(140)]\n",
    "            y = [i for _ in range(140)]\n",
    "        else:\n",
    "            x.append(tr)\n",
    "            y.append(i)\n",
    "\n",
    "x = np.array(x)\n",
    "y = np.array(y).reshape(-1, 1)\n",
    "np.save('Data/3D/x_old.npy', x)\n",
    "np.save('Data/3D/y_old.npy', y)\n",
    "# x = np.load('Data/3D/x_old.npy')\n",
    "# y = np.load('Data/3D/y_old.npy')\n",
    "x.shape, y.shape, time.time()-start"
   ]
  },
  {
   "attachments": {},
   "cell_type": "markdown",
   "metadata": {},
   "source": [
    ".npy 로드"
   ]
  },
  {
   "cell_type": "code",
   "execution_count": null,
   "metadata": {},
   "outputs": [],
   "source": [
    "start = time.time()\n",
    "x = np.load('Data/3D/x_old.npy')\n",
    "y = np.load('Data/3D/y_old.npy')\n",
    "x.shape, y.shape, time.time()-start"
   ]
  },
  {
   "attachments": {},
   "cell_type": "markdown",
   "metadata": {},
   "source": [
    "### 3-Dimensional Trajectory new version"
   ]
  },
  {
   "attachments": {},
   "cell_type": "markdown",
   "metadata": {},
   "source": [
    "원본 .pickle 로드 및 전처리 후 .npy 저장"
   ]
  },
  {
   "cell_type": "code",
   "execution_count": null,
   "metadata": {},
   "outputs": [],
   "source": [
    "'''\n",
    "Trajectory types: Normal, Burn time, Xcp position, Thrust Tilt Angle, Fin bias\n",
    "Target Distance = 4000\n",
    "Total states = ['Rmi_1', 'Rmi_2', 'Rmi_3', 'Vmi_1', 'Vmi_2', 'Vmi_3', 'Wmb_1', 'Wmb_2', 'Wmb_3', 'Accm_1', 'Accm_2', 'Accm_3', 'angEuler_1', 'angEuler_2', 'angEuler_3', 'FinOut_1', 'FinOut_2', 'FinOut_3', 'FinOut_4', 'err_FinBias_1', 'err_FinBias_2', 'err_FinBias_3', 'err_FinBias_4', 'FinCmd_1', 'FinCmd_2', 'FinCmd_3', 'FinCmd_4', 'err_BurnTime', 'err_Tilt_1', 'err_Tilt_2', 'err_delXcp'], 31 states\n",
    "Used States = ['Rmi_1', 'Rmi_2', 'Rmi_3', 'Vmi_1', 'Vmi_2', 'Vmi_3', 'Wmb_1', 'Wmb_2', 'Wmb_3', 'Accm_1', 'Accm_2', 'Accm_3', 'angEuler_1', 'angEuler_2', 'angEuler_3', 'FinOut_1', 'FinOut_2', 'FinOut_3', 'FinOut_4', 'FinCmd_1', 'FinCmd_2', 'FinCmd_3', 'FinCmd_4'], 23 states\n",
    "label = [0, 1, 2, 3, 4] for normal, burn_time, xcp_pos, thrust_tilt, fin_bias respectively, 5 classes\n",
    "minimum length of trajectory = 2449 (2448*0.01 = 24.48 seconds)\n",
    "maximum length of trajectory = 2635 (2635*0.01 = 26.35 seconds)\n",
    "fixed sequence length = 2656 (2656*0.01 = 26.56 seconds)\n",
    "'''\n",
    "start = time.time()\n",
    "seq_len = 2656\n",
    "x = []\n",
    "y = []\n",
    "tr = {}\n",
    "for i, tr_type in enumerate(['Normal', 'Burntime', 'Xcpposition', \"ThrustTiltAngle\", 'Finbias']):\n",
    "    N = 1 if i == 0 else 500\n",
    "    for tr_i in range(N):\n",
    "        tr = pd.read_csv(f'Data/3D/new/csv/Type_{i+1}_{tr_i+1}.csv', header=None)\n",
    "        tr.columns = ['Rmi_1', 'Rmi_2', 'Rmi_3', 'Vmi_1', 'Vmi_2', 'Vmi_3', 'Wmb_1', 'Wmb_2', 'Wmb_3', 'Accm_1', 'Accm_2', 'Accm_3', 'angEuler_1', 'angEuler_2', 'angEuler_3', 'FinOut_1', 'FinOut_2', 'FinOut_3', 'FinOut_4', 'err_FinBias_1', 'err_FinBias_2', 'err_FinBias_3', 'err_FinBias_4', 'FinCmd_1', 'FinCmd_2', 'FinCmd_3', 'FinCmd_4', 'err_BurnTime', 'err_Tilt_1', 'err_Tilt_2', 'err_delXcp']\n",
    "        tr = tr[['Rmi_1', 'Rmi_2', 'Rmi_3', 'Vmi_1', 'Vmi_2', 'Vmi_3', 'Wmb_1', 'Wmb_2', 'Wmb_3', 'Accm_1', 'Accm_2', 'Accm_3', 'angEuler_1', 'angEuler_2', 'angEuler_3', 'FinOut_1', 'FinOut_2', 'FinOut_3', 'FinOut_4', 'FinCmd_1', 'FinCmd_2', 'FinCmd_3', 'FinCmd_4']].to_numpy()\n",
    "        tr[0] = 4000 - tr[0]\n",
    "        terminal = tr[-1].copy()\n",
    "        terminal[3]=terminal[4]=terminal[5]=terminal[6]=terminal[7]=terminal[8]=terminal[12]=terminal[13]=terminal[14]=terminal[19]=terminal[20]=terminal[21]=terminal[22]=0\n",
    "        tr = np.concatenate((tr, np.tile(terminal, (seq_len-len(tr), 1))), axis=0)\n",
    "        if i == 0:\n",
    "            x = [tr for _ in range(500)]\n",
    "            y = [i for _ in range(500)]\n",
    "        else:\n",
    "            x.append(tr)\n",
    "            y.append(i)\n",
    "\n",
    "x = np.array(x)\n",
    "y = np.array(y).reshape(-1, 1)\n",
    "np.save('Data/3D/x_new.npy', x)\n",
    "np.save('Data/3D/y_new.npy', y)\n",
    "# x = np.load('Data/3D/x_new.npy')\n",
    "# y = np.load('Data/3D/y_new.npy')\n",
    "x.shape, y.shape, time.time()-start"
   ]
  },
  {
   "attachments": {},
   "cell_type": "markdown",
   "metadata": {},
   "source": [
    ".npy 로드"
   ]
  },
  {
   "cell_type": "code",
   "execution_count": null,
   "metadata": {},
   "outputs": [],
   "source": [
    "start = time.time()\n",
    "x = np.load('Data/3D/x_new.npy')\n",
    "y = np.load('Data/3D/y_new.npy')\n",
    "x.shape, y.shape, time.time()-start"
   ]
  },
  {
   "attachments": {},
   "cell_type": "markdown",
   "metadata": {},
   "source": [
    "## Network Design"
   ]
  },
  {
   "cell_type": "code",
   "execution_count": null,
   "metadata": {},
   "outputs": [],
   "source": [
    "temp_data_type = args.data_type\n",
    "args.data_type = 'normal'\n",
    "normal_train_set, normal_train_loader = data_provider(args, 'train')\n",
    "normal_train_C_set, normal_train_C_loader = data_provider(args, 'train_c')\n",
    "args.data_type = 'mixed'\n",
    "mixed_train_set, mixed_train_loader = data_provider(args, 'train')\n",
    "mixed_train_C_set, mixed_train_C_loader = data_provider(args, 'train_c')\n",
    "\n",
    "valid_set, valid_loader = data_provider(args, 'valid')\n",
    "test_set, test_loader = data_provider(args, 'test')\n",
    "\n",
    "normal_loaders = {'train': normal_train_loader, 'val': valid_loader, 'test': test_loader}\n",
    "normal_C_loaders = {'train': normal_train_C_loader, 'val': valid_loader, 'test': test_loader}\n",
    "mixed_loaders = {'train': mixed_train_loader, 'val': valid_loader, 'test': test_loader}\n",
    "mixed_C_loaders = {'train': mixed_train_C_loader, 'val': valid_loader, 'test': test_loader}"
   ]
  },
  {
   "cell_type": "code",
   "execution_count": null,
   "metadata": {},
   "outputs": [],
   "source": [
    "model = TrAE(ConvEncoder, ConvDecoder, args).to(args.device)\n",
    "criterion = nn.MSELoss().to(args.device)\n",
    "optimizer = optim.Adam(model.parameters(), lr=args.lr)"
   ]
  },
  {
   "cell_type": "code",
   "execution_count": 21,
   "metadata": {},
   "outputs": [],
   "source": [
    "def train_AutoEncoder(model, dataloaders, criterion, optimizer, scheduler, num_epochs=10, phase = None, channel_type = None):\n",
    "    \"\"\"\n",
    "    model: model to train\n",
    "    dataloaders: train, val, test data's loader\n",
    "    criterion: loss function\n",
    "    optimizer: optimizer to update your model\n",
    "    \"\"\"\n",
    "    if phase == 'before':\n",
    "        ts = 0\n",
    "    elif phase == 'initial':\n",
    "        ts = 80\n",
    "    elif phase == 'final':\n",
    "        ts = 411\n",
    "    else:\n",
    "        ts = 0\n",
    "    te = ts + args.seq_len\n",
    "    \n",
    "    if channel_type == 'Rmi':\n",
    "        cs = 0\n",
    "    elif channel_type == 'Vmi':\n",
    "        cs = 3\n",
    "    elif channel_type == 'Wmb':\n",
    "        cs = 6\n",
    "    elif channel_type == 'Accm':\n",
    "        cs = 9\n",
    "    elif channel_type == 'angEuler':\n",
    "        cs = 12\n",
    "    elif channel_type == 'FinOut':\n",
    "        cs = 15\n",
    "    elif channel_type == 'FinCmd':\n",
    "        cs = 19\n",
    "    else:\n",
    "        cs = 0\n",
    "    ce = cs + args.input_channel\n",
    "\n",
    "    train_loss_history = []\n",
    "    val_loss_history = []\n",
    "\n",
    "    best_model_wts = copy.deepcopy(model.state_dict())\n",
    "    best_val_loss = 100000000\n",
    "    \n",
    "    epoch_iterater = tqdm(range(num_epochs), desc='AE Training', total=num_epochs)\n",
    "    # since = time.time()\n",
    "    for epoch in epoch_iterater:\n",
    "        epoch_iterater.set_description('Epoch {}/{}'.format(epoch+1, num_epochs))\n",
    "\n",
    "        for mode in ['train', 'val']:\n",
    "            if mode == 'train':\n",
    "                model.train()            # Set model to training mode\n",
    "            else:\n",
    "                model.eval()            # Set model to evaluate mode\n",
    "\n",
    "            running_loss = 0.0\n",
    "            for inputs, _ in dataloaders[mode]:\n",
    "                inputs = inputs.to(args.device)[:, ts:te, cs:ce].type(torch.float32).transpose(1, 2)  # transfer inputs to GPU \n",
    "                optimizer.zero_grad()\n",
    "\n",
    "                with torch.set_grad_enabled(mode == 'train'):\n",
    "                    outputs, encoded = model(inputs)\n",
    "                    loss = criterion(outputs, inputs)           # calculate a loss\n",
    "                    if mode == 'train':\n",
    "                        loss.backward()                             # perform back-propagation from the loss\n",
    "                        optimizer.step()                             # perform gradient descent with given optimizer\n",
    "                        scheduler.step()                             # update learning rate\n",
    "                        \n",
    "                running_loss += loss.item() * inputs.size(0)                    \n",
    "\n",
    "            epoch_loss = running_loss / len(dataloaders[mode].dataset)\n",
    "            # deep copy the model\n",
    "            if mode == 'train':\n",
    "                train_loss_history.append(epoch_loss)\n",
    "            if mode == 'val':\n",
    "                val_loss_history.append(epoch_loss)\n",
    "            if mode == 'val' and epoch_loss < best_val_loss:\n",
    "                best_val_loss = epoch_loss\n",
    "                best_model_wts = copy.deepcopy(model.state_dict())\n",
    "        epoch_iterater.set_postfix(f'{dataT} phase: {phases.index(phase)+1}/{len(phases)} states: {chTs.index(channel_type)+1}/{len(chTs)} train loss: {train_loss_history[-1]:.4f}, val loss: {val_loss_history[-1]:.4f}, best val loss: {best_val_loss:.4f}')\n",
    "\n",
    "    # time_elapsed = time.time() - since\n",
    "    # print('Training complete in {:.0f}m {:.0f}s'.format(time_elapsed // 60, time_elapsed % 60))\n",
    "    # print('Best val Loss: {:4f}'.format(best_val_loss))\n",
    "\n",
    "    # load best model weights\n",
    "    # model.load_state_dict(best_model_wts)\n",
    "    return model, best_model_wts, train_loss_history, val_loss_history"
   ]
  },
  {
   "cell_type": "code",
   "execution_count": 22,
   "metadata": {},
   "outputs": [
    {
     "name": "stdout",
     "output_type": "stream",
     "text": [
      "mixed set Rmi featrue before phase Auto Encoder model training start\n"
     ]
    },
    {
     "name": "stderr",
     "output_type": "stream",
     "text": [
      "Epoch 1/100:   0%|          | 0/100 [00:01<?, ?it/s]\n"
     ]
    },
    {
     "ename": "ValueError",
     "evalue": "need more than 1 value to unpack",
     "output_type": "error",
     "traceback": [
      "\u001b[0;31m---------------------------------------------------------------------------\u001b[0m",
      "\u001b[0;31mValueError\u001b[0m                                Traceback (most recent call last)",
      "Cell \u001b[0;32mIn[22], line 35\u001b[0m\n\u001b[1;32m     32\u001b[0m optimizer \u001b[39m=\u001b[39m optim\u001b[39m.\u001b[39mAdam(model\u001b[39m.\u001b[39mparameters(), lr\u001b[39m=\u001b[39margs\u001b[39m.\u001b[39mlr)\n\u001b[1;32m     33\u001b[0m scheduler \u001b[39m=\u001b[39m optim\u001b[39m.\u001b[39mlr_scheduler\u001b[39m.\u001b[39mCosineAnnealingLR(optimizer, T_max\u001b[39m=\u001b[39m\u001b[39m10\u001b[39m, eta_min\u001b[39m=\u001b[39m\u001b[39m1e-5\u001b[39m)\n\u001b[0;32m---> 35\u001b[0m trained_model, best_wts, train_loss_history, val_loss_history \u001b[39m=\u001b[39m train_AutoEncoder(model, data_loaders, criterion, optimizer, scheduler, args\u001b[39m.\u001b[39;49mtrain_epochs, phase, chT)\n\u001b[1;32m     36\u001b[0m torch\u001b[39m.\u001b[39msave(trained_model\u001b[39m.\u001b[39mstate_dict(), save_ckpt\u001b[39m+\u001b[39m\u001b[39m'\u001b[39m\u001b[39mmodel.pth\u001b[39m\u001b[39m'\u001b[39m)\n\u001b[1;32m     37\u001b[0m torch\u001b[39m.\u001b[39msave(trained_model\u001b[39m.\u001b[39mencoder\u001b[39m.\u001b[39mstate_dict(), save_ckpt\u001b[39m+\u001b[39m\u001b[39m'\u001b[39m\u001b[39mencoder.pth\u001b[39m\u001b[39m'\u001b[39m)\n",
      "Cell \u001b[0;32mIn[21], line 77\u001b[0m, in \u001b[0;36mtrain_AutoEncoder\u001b[0;34m(model, dataloaders, criterion, optimizer, scheduler, num_epochs, phase, channel_type)\u001b[0m\n\u001b[1;32m     75\u001b[0m             best_val_loss \u001b[39m=\u001b[39m epoch_loss\n\u001b[1;32m     76\u001b[0m             best_model_wts \u001b[39m=\u001b[39m copy\u001b[39m.\u001b[39mdeepcopy(model\u001b[39m.\u001b[39mstate_dict())\n\u001b[0;32m---> 77\u001b[0m     epoch_iterater\u001b[39m.\u001b[39;49mset_postfix(\u001b[39mf\u001b[39;49m\u001b[39m'\u001b[39;49m\u001b[39m{\u001b[39;49;00mdataT\u001b[39m}\u001b[39;49;00m\u001b[39m phase: \u001b[39;49m\u001b[39m{\u001b[39;49;00mphases\u001b[39m.\u001b[39;49mindex(phase)\u001b[39m+\u001b[39;49m\u001b[39m1\u001b[39;49m\u001b[39m}\u001b[39;49;00m\u001b[39m/\u001b[39;49m\u001b[39m{\u001b[39;49;00m\u001b[39mlen\u001b[39;49m(phases)\u001b[39m}\u001b[39;49;00m\u001b[39m states: \u001b[39;49m\u001b[39m{\u001b[39;49;00mchTs\u001b[39m.\u001b[39;49mindex(channel_type)\u001b[39m+\u001b[39;49m\u001b[39m1\u001b[39;49m\u001b[39m}\u001b[39;49;00m\u001b[39m/\u001b[39;49m\u001b[39m{\u001b[39;49;00m\u001b[39mlen\u001b[39;49m(chTs)\u001b[39m}\u001b[39;49;00m\u001b[39m train loss: \u001b[39;49m\u001b[39m{\u001b[39;49;00mtrain_loss_history[\u001b[39m-\u001b[39;49m\u001b[39m1\u001b[39;49m]\u001b[39m:\u001b[39;49;00m\u001b[39m.4f\u001b[39;49m\u001b[39m}\u001b[39;49;00m\u001b[39m, val loss: \u001b[39;49m\u001b[39m{\u001b[39;49;00mval_loss_history[\u001b[39m-\u001b[39;49m\u001b[39m1\u001b[39;49m]\u001b[39m:\u001b[39;49;00m\u001b[39m.4f\u001b[39;49m\u001b[39m}\u001b[39;49;00m\u001b[39m, best val loss: \u001b[39;49m\u001b[39m{\u001b[39;49;00mbest_val_loss\u001b[39m:\u001b[39;49;00m\u001b[39m.4f\u001b[39;49m\u001b[39m}\u001b[39;49;00m\u001b[39m'\u001b[39;49m)\n\u001b[1;32m     79\u001b[0m \u001b[39m# time_elapsed = time.time() - since\u001b[39;00m\n\u001b[1;32m     80\u001b[0m \u001b[39m# print('Training complete in {:.0f}m {:.0f}s'.format(time_elapsed // 60, time_elapsed % 60))\u001b[39;00m\n\u001b[1;32m     81\u001b[0m \u001b[39m# print('Best val Loss: {:4f}'.format(best_val_loss))\u001b[39;00m\n\u001b[1;32m     82\u001b[0m \n\u001b[1;32m     83\u001b[0m \u001b[39m# load best model weights\u001b[39;00m\n\u001b[1;32m     84\u001b[0m \u001b[39m# model.load_state_dict(best_model_wts)\u001b[39;00m\n\u001b[1;32m     85\u001b[0m \u001b[39mreturn\u001b[39;00m model, best_model_wts, train_loss_history, val_loss_history\n",
      "File \u001b[0;32m/opt/conda/lib/python3.10/site-packages/tqdm/std.py:1429\u001b[0m, in \u001b[0;36mtqdm.set_postfix\u001b[0;34m(self, ordered_dict, refresh, **kwargs)\u001b[0m\n\u001b[1;32m   1417\u001b[0m \u001b[39m\"\"\"\u001b[39;00m\n\u001b[1;32m   1418\u001b[0m \u001b[39mSet/modify postfix (additional stats)\u001b[39;00m\n\u001b[1;32m   1419\u001b[0m \u001b[39mwith automatic formatting based on datatype.\u001b[39;00m\n\u001b[0;32m   (...)\u001b[0m\n\u001b[1;32m   1426\u001b[0m \u001b[39mkwargs  : dict, optional\u001b[39;00m\n\u001b[1;32m   1427\u001b[0m \u001b[39m\"\"\"\u001b[39;00m\n\u001b[1;32m   1428\u001b[0m \u001b[39m# Sort in alphabetical order to be more deterministic\u001b[39;00m\n\u001b[0;32m-> 1429\u001b[0m postfix \u001b[39m=\u001b[39m OrderedDict([] \u001b[39mif\u001b[39;49;00m ordered_dict \u001b[39mis\u001b[39;49;00m \u001b[39mNone\u001b[39;49;00m \u001b[39melse\u001b[39;49;00m ordered_dict)\n\u001b[1;32m   1430\u001b[0m \u001b[39mfor\u001b[39;00m key \u001b[39min\u001b[39;00m \u001b[39msorted\u001b[39m(kwargs\u001b[39m.\u001b[39mkeys()):\n\u001b[1;32m   1431\u001b[0m     postfix[key] \u001b[39m=\u001b[39m kwargs[key]\n",
      "\u001b[0;31mValueError\u001b[0m: need more than 1 value to unpack"
     ]
    },
    {
     "data": {
      "image/png": "[encoded data removed]",
      "text/plain": [
       "<Figure size 640x480 with 1 Axes>"
      ]
     },
     "metadata": {},
     "output_type": "display_data"
    }
   ],
   "source": [
    "phases = ['before', 'initial', 'final'] if args.data == '3D/new/' else ['whole']\n",
    "phase2len = {'before':96, 'initial':352, 'final':2240} if args.data == '3D/new/' else {'whole':3200}\n",
    "chTs = ['Rmi', 'Vmi', 'Wmi', 'Accm', 'angEuler', 'FinOut', 'FinCmd'] if args.data == '3D/new/' else ['Rmi']\n",
    "ch = {'Rmi':3, 'Vmi':3, 'Wmi':3, 'Accm':3, 'angEuler':3, 'FinOut':4, 'FinCmd':4} if args.data == '3D/new/' else {'Rmi':2}\n",
    "plot_cnt = 0\n",
    "temp_seq_len = args.seq_len\n",
    "\n",
    "for dataT in ['mixed', 'normal']:\n",
    "    # if dataT == 'normal':\n",
    "    #     continue\n",
    "    args.data_type = dataT\n",
    "    # train_set, train_loader = data_provider(args, 'train')\n",
    "    # valid_set, valid_loader = data_provider(args, 'valid')\n",
    "    # test_set, test_loader = data_provider(args, 'test')\n",
    "    # data_loaders = {'train': train_loader, 'val': valid_loader, 'test': test_loader}\n",
    "    if dataT == 'mixed':\n",
    "        data_loaders = mixed_loaders\n",
    "    else:\n",
    "        data_loaders = normal_loaders\n",
    "    \n",
    "    for phase in phases:\n",
    "        plot_cnt += 1\n",
    "        plt.subplot(4, len(phases), plot_cnt)\n",
    "        for chT in chTs:\n",
    "            if args.data == '3D/new/':\n",
    "                args.seq_len = phase2len[phase]\n",
    "                args.input_channel = ch[chT]\n",
    "            save_ckpt = f'{args.checkpoints+args.data+args.model}_{args.data_type}_{chT}_{phase}_'\n",
    "            print(f'{dataT} set {chT} featrue {phase} phase Auto Encoder model training start')\n",
    "            model = TrAE(ConvEncoder, ConvDecoder, args).to(args.device)\n",
    "            criterion = nn.MSELoss().to(args.device)\n",
    "            optimizer = optim.Adam(model.parameters(), lr=args.lr)\n",
    "            scheduler = optim.lr_scheduler.CosineAnnealingLR(optimizer, T_max=10, eta_min=1e-5)\n",
    "            \n",
    "            trained_model, best_wts, train_loss_history, val_loss_history = train_AutoEncoder(model, data_loaders, criterion, optimizer, scheduler, args.train_epochs, phase, chT)\n",
    "            torch.save(trained_model.state_dict(), save_ckpt+'model.pth')\n",
    "            torch.save(trained_model.encoder.state_dict(), save_ckpt+'encoder.pth')\n",
    "            trained_model.load_state_dict(best_wts)\n",
    "            torch.save(trained_model.state_dict(), save_ckpt+'best_model.pth')\n",
    "            torch.save(trained_model.encoder.state_dict(), save_ckpt+'best_encoder.pth')\n",
    "            print('model saved to %s' % save_ckpt)\n",
    "            \n",
    "            plt.figure(figsize=(4, 3))\n",
    "            plt.plot(train_loss_history, label=f'{phase} {chT} train')\n",
    "            plt.plot(val_loss_history, label=f'{phase} {chT} val')\n",
    "        #     break\n",
    "        # break\n",
    "    args.seq_len = temp_seq_len\n",
    "    # break\n",
    "plt.show()"
   ]
  },
  {
   "cell_type": "code",
   "execution_count": 7,
   "metadata": {},
   "outputs": [
    {
     "data": {
      "image/png": "[encoded data removed]",
      "text/plain": [
       "<Figure size 640x480 with 1 Axes>"
      ]
     },
     "metadata": {},
     "output_type": "display_data"
    }
   ],
   "source": [
    "# Let's draw a learning curve like below.\n",
    "plt.plot(train_loss_history, label='train')\n",
    "plt.plot(val_loss_history, label='val')\n",
    "plt.xlabel('epoch')\n",
    "plt.ylabel('loss')\n",
    "plt.legend()\n",
    "plt.show()"
   ]
  },
  {
   "cell_type": "code",
   "execution_count": 8,
   "metadata": {},
   "outputs": [
    {
     "name": "stdout",
     "output_type": "stream",
     "text": [
      "4150302.8733333335\n"
     ]
    }
   ],
   "source": [
    "with torch.no_grad():\n",
    "    running_loss = 0.0\n",
    "    for inputs, labels in data_loaders[\"test\"]:\n",
    "        inputs = inputs.to(args.device)[:, 0:96, :4].type(torch.float32).transpose(1, 2)\n",
    "\n",
    "        outputs, encoded = trained_model(inputs)\n",
    "        test_loss = criterion(outputs, inputs)\n",
    "        \n",
    "        running_loss += test_loss.item() * inputs.size(0)\n",
    "\n",
    "    test_loss = running_loss / len(data_loaders[\"test\"].dataset)\n",
    "    print(test_loss)        "
   ]
  },
  {
   "cell_type": "code",
   "execution_count": null,
   "metadata": {},
   "outputs": [],
   "source": [
    "phases = ['before', 'initial', 'final'] if args.data == '3D/new/' else ['whole']\n",
    "phase2len = {'before':96, 'initial':352, 'final':2240} if args.data == '3D/new/' else {'whole':3200}\n",
    "chTs = ['Rmi', 'Vmi', 'Wmi', 'Accm', 'angEuler', 'FinOut', 'FinCmd'] if args.data == '3D/new/' else ['Rmi']\n",
    "ch = {'Rmi':3, 'Vmi':3, 'Wmi':3, 'Accm':3, 'angEuler':3, 'FinOut':4, 'FinCmd':4} if args.data == '3D/new/' else {'Rmi':2}\n",
    "plot_cnt = 0\n",
    "temp_seq_len = args.seq_len\n",
    "\n",
    "for dataT in ['mixed', 'normal']:\n",
    "    # if dataT == 'normal':\n",
    "    #     continue\n",
    "    args.data_type = dataT\n",
    "    # train_set, train_loader = data_provider(args, 'train')\n",
    "    # valid_set, valid_loader = data_provider(args, 'valid')\n",
    "    # test_set, test_loader = data_provider(args, 'test')\n",
    "    # data_loaders = {'train': train_loader, 'val': valid_loader, 'test': test_loader}\n",
    "    \n",
    "    if dataT == 'mixed':\n",
    "        data_loaders = mixed_loaders\n",
    "    else:\n",
    "        data_loaders = normal_loaders\n",
    "    \n",
    "    for phase in phases:\n",
    "        plot_cnt += 1\n",
    "        plt.subplot(4, len(phases), plot_cnt)\n",
    "        for chT in chTs:\n",
    "            args.seq_len = phase2len[phase]\n",
    "            args.input_channel = ch[chT]\n",
    "            for modelT in ['model', 'best_model']:\n",
    "                save_ckpt = f'{args.checkpoints+args.data+args.model}_{args.data_type}_{chT}_{phase}_{modelT}'\n",
    "                model = TrAE(ConvEncoder, ConvDecoder, args).to(args.device)\n",
    "                model.load_state_dict(torch.load(save_ckpt+'.pth'))\n",
    "                \n",
    "                with torch.no_grad():\n",
    "                    running_loss = 0.0\n",
    "                    for inputs, labels in data_loaders[\"test\"]:\n",
    "                        inputs = inputs.to(args.device)[:,:,:2].type(torch.float32).transpose(1, 2)\n",
    "\n",
    "                        # outputs, encoded = trained_model(inputs)\n",
    "                        outputs, encoded = model(inputs)\n",
    "                        test_loss = criterion(outputs, inputs)\n",
    "                        \n",
    "                        running_loss += test_loss.item() * inputs.size(0)\n",
    "\n",
    "                    test_loss = running_loss / len(data_loaders[\"test\"].dataset)\n",
    "                    print(test_loss)\n",
    "\n",
    "                tr = inputs.cpu().numpy()\n",
    "                tr_hat = outputs.cpu().numpy()\n",
    "\n",
    "                f, axes = plt.subplots(2, 5)\n",
    "                f.set_size_inches((15, 5))\n",
    "                plt.subplots_adjust(wspace = 0.3, hspace = 0.3)\n",
    "\n",
    "                for i, n in enumerate(range(0, len(tr)-1, len(tr)//5)):\n",
    "                    axes[0, i].plot(tr[n, 0, :], tr[n, 1, :])\n",
    "                    # axes[0, i].plot(tr[n, 0, :])\n",
    "                    # axes[0, i].plot(tr[n, 1, :])\n",
    "                    axes[1, i].plot(tr_hat[n, 0, :], tr_hat[n, 1, :])\n",
    "                    # axes[1, i].plot(tr_hat[n, 0, :])\n",
    "                    # axes[1, i].plot(tr_hat[n, 1, :])\n",
    "\n",
    "                plt.show()\n",
    "        #         break\n",
    "        #     break\n",
    "        # break\n",
    "    args.seq_len = temp_seq_len\n",
    "    # break"
   ]
  },
  {
   "cell_type": "code",
   "execution_count": null,
   "metadata": {},
   "outputs": [],
   "source": [
    "def train_classifier(encoder, model, dataloaders, criterion, optimizer, scheduler, num_epochs=10, phase = None, channel_type = None):\n",
    "    \"\"\"\n",
    "    model: model to train\n",
    "    dataloaders: train, val, test data's loader\n",
    "    criterion: loss function\n",
    "    optimizer: optimizer to update your model\n",
    "    \"\"\"\n",
    "    if phase == 'before':\n",
    "        ts = 0\n",
    "    elif phase == 'initial':\n",
    "        ts = 80\n",
    "    elif phase == 'final':\n",
    "        ts = 411\n",
    "    else:\n",
    "        ts = 0\n",
    "    te = ts + args.seq_len\n",
    "    \n",
    "    if channel_type == 'Rmi':\n",
    "        cs = 0\n",
    "    elif channel_type == 'Vmi':\n",
    "        cs = 3\n",
    "    elif channel_type == 'Wmb':\n",
    "        cs = 6\n",
    "    elif channel_type == 'Accm':\n",
    "        cs = 9\n",
    "    elif channel_type == 'angEuler':\n",
    "        cs = 12\n",
    "    elif channel_type == 'FinOut':\n",
    "        cs = 15\n",
    "    elif channel_type == 'FinCmd':\n",
    "        cs = 19\n",
    "    else:\n",
    "        cs = 0\n",
    "    ce = cs + args.input_channel\n",
    "\n",
    "    train_loss_history = []\n",
    "    val_loss_history = []\n",
    "\n",
    "    best_model_wts = copy.deepcopy(model.state_dict())\n",
    "    best_val_loss = 100000000\n",
    "\n",
    "    encoder.eval()\n",
    "    \n",
    "    # since = time.time()\n",
    "    epoch_iterater = tqdm(range(num_epochs), desc='C Training', total=num_epochs)\n",
    "    for epoch in epoch_iterater:\n",
    "        epoch_iterater.set_description('Epoch {}/{}'.format(epoch+1, num_epochs))\n",
    "\n",
    "        for mode in ['train', 'val']:\n",
    "            if mode == 'train':\n",
    "                model.train()            # Set model to training mode\n",
    "            else:\n",
    "                model.eval()            # Set model to evaluate mode\n",
    "\n",
    "            running_loss = 0.0\n",
    "            for inputs, labels in dataloaders[mode]:\n",
    "                inputs = inputs.to(args.device)[:, ts:te, cs:ce].type(torch.float32).transpose(1, 2)  # transfer inputs to GPU \n",
    "                encoded = encoder(inputs)\n",
    "                labels = F.one_hot(labels, num_classes=args.class_num).to(args.device).type(torch.float32)\n",
    "                optimizer.zero_grad()\n",
    "\n",
    "                with torch.set_grad_enabled(mode == 'train'):\n",
    "                    outputs = model(encoded.reshape(encoded.size(0), -1))  # forward pass\n",
    "                    loss = criterion(outputs, labels)           # calculate a loss\n",
    "                    loss = criterion(outputs.view(-1), labels.view(-1))\n",
    "                    if mode == 'train':\n",
    "                        loss.backward()                             # perform back-propagation from the loss\n",
    "                        optimizer.step()                             # perform gradient descent with given optimizer\n",
    "                        scheduler.step()                             # update learning rate\n",
    "                        \n",
    "                running_loss += loss.item() * inputs.size(0)                    \n",
    "\n",
    "            epoch_loss = running_loss / len(dataloaders[mode].dataset)\n",
    "            # print('{} Loss: {:.4f}'.format(mode, epoch_loss))\n",
    "            \n",
    "            # deep copy the model\n",
    "            if mode == 'train':\n",
    "                train_loss_history.append(epoch_loss)\n",
    "            if mode == 'val':\n",
    "                val_loss_history.append(epoch_loss)\n",
    "            if mode == 'val' and epoch_loss < best_val_loss:\n",
    "                best_val_loss = epoch_loss\n",
    "                best_model_wts = copy.deepcopy(model.state_dict())\n",
    "        epoch_iterater.set_postfix({'data':dataT, 'phase':f'{phases.index(phase)+1}/{len(phases)}', 'states': f'{chTs.index(channel_type)+1}/{len(chTs)}', 'loss':lossf[:-1],  'train loss': train_loss_history[-1], 'val loss': val_loss_history[-1], 'best val loss': best_val_loss})\n",
    "        # print()\n",
    "\n",
    "    # time_elapsed = time.time() - since\n",
    "    # print('Training complete in {:.0f}m {:.0f}s'.format(time_elapsed // 60, time_elapsed % 60))\n",
    "    # print('Best val Loss: {:4f}'.format(best_val_loss))\n",
    "\n",
    "    # load best model weights\n",
    "    # model.load_state_dict(best_model_wts)\n",
    "    return model, best_model_wts, train_loss_history, val_loss_history"
   ]
  },
  {
   "cell_type": "code",
   "execution_count": 23,
   "metadata": {},
   "outputs": [
    {
     "name": "stdout",
     "output_type": "stream",
     "text": [
      "mixed set Rmi featrue before phase MSE loss Classifier model training start\n"
     ]
    },
    {
     "name": "stderr",
     "output_type": "stream",
     "text": [
      "Epoch 100/100: 100%|██████████| 100/100 [01:50<00:00,  1.10s/it, data=mixed, phase=1/3, states=1/7, loss=MSE, train loss=0.16, val loss=0.161, best val loss=0.149]\n"
     ]
    },
    {
     "name": "stdout",
     "output_type": "stream",
     "text": [
      "model saved to ./checkpoints/3D/new/MSE/A_mixed_Rmi_before_\n",
      "mixed set Rmi featrue before phase CE loss Classifier model training start\n"
     ]
    },
    {
     "name": "stderr",
     "output_type": "stream",
     "text": [
      "Epoch 9/100:   8%|▊         | 8/100 [00:08<01:40,  1.09s/it, data=mixed, phase=1/3, states=1/7, loss=CE, train loss=1.61, val loss=1.64, best val loss=1.57]Exception ignored in: <function _releaseLock at 0x7fd8eed2d000>\n",
      "Traceback (most recent call last):\n",
      "  File \"/opt/conda/lib/python3.10/logging/__init__.py\", line 228, in _releaseLock\n",
      "    def _releaseLock():\n",
      "KeyboardInterrupt: \n",
      "Epoch 20/100:  19%|█▉        | 19/100 [00:20<01:28,  1.10s/it, data=mixed, phase=1/3, states=1/7, loss=CE, train loss=1.61, val loss=1.61, best val loss=1.57]"
     ]
    }
   ],
   "source": [
    "phases = ['before', 'initial', 'final'] if args.data == '3D/new/' else ['whole']\n",
    "phase2len = {'before':96, 'initial':352, 'final':2240} if args.data == '3D/new/' else {'whole':3200}\n",
    "chTs = ['Rmi', 'Vmi', 'Wmi', 'Accm', 'angEuler', 'FinOut', 'FinCmd'] if args.data == '3D/new/' else ['Rmi']\n",
    "ch = {'Rmi':3, 'Vmi':3, 'Wmi':3, 'Accm':3, 'angEuler':3, 'FinOut':4, 'FinCmd':4} if args.data == '3D/new/' else {'Rmi':2}\n",
    "plot_cnt = 0\n",
    "temp_seq_len = args.seq_len\n",
    "\n",
    "for dataT in ['mixed', 'normal']:\n",
    "    # if dataT == 'normal':\n",
    "    #     continue\n",
    "    args.seq_len = temp_seq_len\n",
    "    args.data_type = dataT\n",
    "    # train_set, train_loader = data_provider(args, 'train_c')\n",
    "    # valid_set, valid_loader = data_provider(args, 'valid')\n",
    "    # test_set, test_loader = data_provider(args, 'test')\n",
    "    # data_loaders = {'train': train_loader, 'val': valid_loader, 'test': test_loader}\n",
    "    if dataT == 'mixed':\n",
    "        data_loaders = mixed_C_loaders\n",
    "    else:\n",
    "        data_loaders = normal_C_loaders\n",
    "    \n",
    "    for phase in phases:\n",
    "        plot_cnt += 1\n",
    "        plt.subplot(4, len(phases), plot_cnt)\n",
    "        for chT in chTs:\n",
    "            if args.data == '3D/new/':\n",
    "                args.seq_len = phase2len[phase]\n",
    "                args.input_channel = ch[chT]\n",
    "            for lossf in ['MSE/', 'CE/']:\n",
    "                if lossf == 'MSE/':\n",
    "                    criterion = nn.MSELoss().to(args.device)\n",
    "                else:\n",
    "                    criterion = nn.CrossEntropyLoss().to(args.device)\n",
    "                load_ckpt = f'{args.checkpoints+args.data+args.model}_{args.data_type}_{chT}_{phase}_'\n",
    "                save_ckpt = f'{args.checkpoints+args.data+lossf+args.model}_{args.data_type}_{chT}_{phase}_'\n",
    "                \n",
    "                print(f'{dataT} set {chT} featrue {phase} phase {lossf[:-1]} loss Classifier model training start')\n",
    "                encoder = ConvEncoder(args.input_channel, args.t, args.output_channel).to(args.device)\n",
    "                encoder.load_state_dict(torch.load(load_ckpt+'encoder.pth'))\n",
    "                model = Classifier(args.seq_len//(2**args.layer_num)*args.output_channel, args.class_num).to(args.device)\n",
    "                optimizer = optim.Adam(model.parameters(), lr=args.lr)\n",
    "                scheduler = optim.lr_scheduler.CosineAnnealingLR(optimizer, T_max=10, eta_min=1e-5)\n",
    "                \n",
    "                trained_model, best_wts, train_loss_history, val_loss_history = train_classifier(encoder, model, data_loaders, criterion, optimizer, scheduler, args.train_epochs, phase, chT)\n",
    "                torch.save(trained_model.state_dict(), save_ckpt+'classifier.pth')\n",
    "                torch.save(best_wts, save_ckpt+'best_classifier.pth')\n",
    "                print('model saved to %s' % save_ckpt)\n",
    "                \n",
    "                plt.figure(figsize=(4, 3))\n",
    "                plt.plot(train_loss_history, label=f'{phase} {chT} train')\n",
    "                plt.plot(val_loss_history, label=f'{phase} {chT} val')\n",
    "        #     break\n",
    "        # break\n",
    "    args.seq_len = temp_seq_len\n",
    "    # break\n",
    "plt.show()"
   ]
  },
  {
   "cell_type": "code",
   "execution_count": 9,
   "metadata": {},
   "outputs": [
    {
     "data": {
      "text/plain": [
       "tensor([3, 4, 2, 2, 3, 1, 3, 1, 4, 1, 1, 0, 0, 4, 3, 2, 2, 2, 4, 0, 4, 0, 2, 2,\n",
       "        4, 2, 2, 1, 4, 0, 1, 1, 0, 1, 0, 4, 3, 2, 3, 2, 1, 4, 3, 4, 2, 4, 0, 0,\n",
       "        1, 3, 2, 3, 4, 2, 1, 3, 3, 2, 1, 0, 1, 2, 3, 4])"
      ]
     },
     "execution_count": 9,
     "metadata": {},
     "output_type": "execute_result"
    }
   ],
   "source": [
    "next(iter(mixed_C_loaders['train']))[1]"
   ]
  },
  {
   "cell_type": "code",
   "execution_count": 16,
   "metadata": {},
   "outputs": [
    {
     "data": {
      "text/plain": [
       "(torch.Size([64, 5]), torch.Size([64, 5]))"
      ]
     },
     "execution_count": 16,
     "metadata": {},
     "output_type": "execute_result"
    }
   ],
   "source": [
    "F.one_hot(next(iter(mixed_C_loaders['train']))[1], num_classes=args.class_num).shape, model(encoder(next(iter(mixed_C_loaders['train']))[0][:,:96,:3].to(args.device).transpose(1,2).type(torch.float32)).reshape(64, -1)).shape"
   ]
  },
  {
   "cell_type": "code",
   "execution_count": 18,
   "metadata": {},
   "outputs": [
    {
     "data": {
      "text/plain": [
       "tensor([[0.0175, 0.0351, 0.0154, 0.0103, 0.0289],\n",
       "        [0.0175, 0.0351, 0.0154, 0.0103, 0.0289],\n",
       "        [0.0175, 0.0351, 0.0154, 0.0103, 0.0289],\n",
       "        [0.0175, 0.0351, 0.0154, 0.0103, 0.0289],\n",
       "        [0.0175, 0.0351, 0.0154, 0.0103, 0.0289],\n",
       "        [0.0175, 0.0351, 0.0154, 0.0103, 0.0289],\n",
       "        [0.0175, 0.0351, 0.0154, 0.0103, 0.0289],\n",
       "        [0.0175, 0.0351, 0.0154, 0.0103, 0.0289],\n",
       "        [0.0175, 0.0351, 0.0154, 0.0103, 0.0289],\n",
       "        [0.0175, 0.0351, 0.0154, 0.0103, 0.0289],\n",
       "        [0.0175, 0.0351, 0.0154, 0.0103, 0.0289],\n",
       "        [0.0175, 0.0351, 0.0154, 0.0103, 0.0289],\n",
       "        [0.0175, 0.0351, 0.0154, 0.0103, 0.0289],\n",
       "        [0.0175, 0.0351, 0.0154, 0.0103, 0.0289],\n",
       "        [0.0175, 0.0351, 0.0154, 0.0103, 0.0289],\n",
       "        [0.0175, 0.0351, 0.0154, 0.0103, 0.0289],\n",
       "        [0.0175, 0.0351, 0.0154, 0.0103, 0.0289],\n",
       "        [0.0175, 0.0351, 0.0154, 0.0103, 0.0289],\n",
       "        [0.0175, 0.0351, 0.0154, 0.0103, 0.0289],\n",
       "        [0.0175, 0.0351, 0.0154, 0.0103, 0.0289],\n",
       "        [0.0175, 0.0351, 0.0154, 0.0103, 0.0289],\n",
       "        [0.0175, 0.0351, 0.0154, 0.0103, 0.0289],\n",
       "        [0.0175, 0.0351, 0.0154, 0.0103, 0.0289],\n",
       "        [0.0175, 0.0351, 0.0154, 0.0103, 0.0289],\n",
       "        [0.0175, 0.0351, 0.0154, 0.0103, 0.0289],\n",
       "        [0.0175, 0.0351, 0.0154, 0.0103, 0.0289],\n",
       "        [0.0175, 0.0351, 0.0154, 0.0103, 0.0289],\n",
       "        [0.0175, 0.0351, 0.0154, 0.0103, 0.0289],\n",
       "        [0.0175, 0.0351, 0.0154, 0.0103, 0.0289],\n",
       "        [0.0175, 0.0351, 0.0154, 0.0103, 0.0289],\n",
       "        [0.0175, 0.0351, 0.0154, 0.0103, 0.0289],\n",
       "        [0.0175, 0.0351, 0.0154, 0.0103, 0.0289],\n",
       "        [0.0175, 0.0351, 0.0154, 0.0103, 0.0289],\n",
       "        [0.0175, 0.0351, 0.0154, 0.0103, 0.0289],\n",
       "        [0.0175, 0.0351, 0.0154, 0.0103, 0.0289],\n",
       "        [0.0175, 0.0351, 0.0154, 0.0103, 0.0289],\n",
       "        [0.0175, 0.0351, 0.0154, 0.0103, 0.0289],\n",
       "        [0.0175, 0.0351, 0.0154, 0.0103, 0.0289],\n",
       "        [0.0175, 0.0351, 0.0154, 0.0103, 0.0289],\n",
       "        [0.0175, 0.0351, 0.0154, 0.0103, 0.0289],\n",
       "        [0.0175, 0.0351, 0.0154, 0.0103, 0.0289],\n",
       "        [0.0175, 0.0351, 0.0154, 0.0103, 0.0289],\n",
       "        [0.0175, 0.0351, 0.0154, 0.0103, 0.0289],\n",
       "        [0.0175, 0.0351, 0.0154, 0.0103, 0.0289],\n",
       "        [0.0175, 0.0351, 0.0154, 0.0103, 0.0289],\n",
       "        [0.0175, 0.0351, 0.0154, 0.0103, 0.0289],\n",
       "        [0.0175, 0.0351, 0.0154, 0.0103, 0.0289],\n",
       "        [0.0175, 0.0351, 0.0154, 0.0103, 0.0289],\n",
       "        [0.0175, 0.0351, 0.0154, 0.0103, 0.0289],\n",
       "        [0.0175, 0.0351, 0.0154, 0.0103, 0.0289],\n",
       "        [0.0175, 0.0351, 0.0154, 0.0103, 0.0289],\n",
       "        [0.0175, 0.0351, 0.0154, 0.0103, 0.0289],\n",
       "        [0.0175, 0.0351, 0.0154, 0.0103, 0.0289],\n",
       "        [0.0175, 0.0351, 0.0154, 0.0103, 0.0289],\n",
       "        [0.0175, 0.0351, 0.0154, 0.0103, 0.0289],\n",
       "        [0.0175, 0.0351, 0.0154, 0.0103, 0.0289],\n",
       "        [0.0175, 0.0351, 0.0154, 0.0103, 0.0289],\n",
       "        [0.0175, 0.0351, 0.0154, 0.0103, 0.0289],\n",
       "        [0.0175, 0.0351, 0.0154, 0.0103, 0.0289],\n",
       "        [0.0175, 0.0351, 0.0154, 0.0103, 0.0289],\n",
       "        [0.0175, 0.0351, 0.0154, 0.0103, 0.0289],\n",
       "        [0.0175, 0.0351, 0.0154, 0.0103, 0.0289],\n",
       "        [0.0175, 0.0351, 0.0154, 0.0103, 0.0289],\n",
       "        [0.0175, 0.0351, 0.0154, 0.0103, 0.0289]], device='cuda:0',\n",
       "       grad_fn=<AddmmBackward0>)"
      ]
     },
     "execution_count": 18,
     "metadata": {},
     "output_type": "execute_result"
    }
   ],
   "source": [
    "model(encoder(next(iter(mixed_C_loaders['train']))[0][:,:96,:3].to(args.device).transpose(1,2).type(torch.float32)).reshape(64, -1))"
   ]
  },
  {
   "cell_type": "code",
   "execution_count": 14,
   "metadata": {},
   "outputs": [],
   "source": [
    "args.seq_len = 2651"
   ]
  },
  {
   "cell_type": "code",
   "execution_count": 6,
   "metadata": {},
   "outputs": [
    {
     "name": "stdout",
     "output_type": "stream",
     "text": [
      "mixed classifier MSE/\n",
      "Accuracy: 13.333333333333334 %\n",
      "mixed best_classifier MSE/\n",
      "Accuracy: 46.666666666666664 %\n",
      "mixed classifier CE/\n",
      "Accuracy: 13.333333333333334 %\n",
      "mixed best_classifier CE/\n",
      "Accuracy: 46.666666666666664 %\n"
     ]
    }
   ],
   "source": [
    "from sklearn.metrics import roc_auc_score, average_precision_score\n",
    "\n",
    "phases = ['before', 'initial', 'final'] if args.data == '3D/new/' else ['whole']\n",
    "phase2len = {'before':96, 'initial':352, 'final':2240} if args.data == '3D/new/' else {'whole':3200}\n",
    "seq_start = {'before':0, 'initial':80, 'final':411} if args.data == '3D/new/' else {'whole':0}\n",
    "chTs = ['Rmi', 'Vmi', 'Wmi', 'Accm', 'angEuler', 'FinOut', 'FinCmd'] if args.data == '3D/new/' else ['Rmi']\n",
    "ch = {'Rmi':3, 'Vmi':3, 'Wmi':3, 'Accm':3, 'angEuler':3, 'FinOut':4, 'FinCmd':4} if args.data == '3D/new/' else {'Rmi':2}\n",
    "channel_start = {'Rmi':0, 'Vmi':3, 'Wmi':6, 'Accm':9, 'angEuler':12, 'FinOut':15, 'FinCmd':19} if args.data == '3D/new/' else {'Rmi':0}\n",
    "plot_cnt = 0\n",
    "temp_seq_len = args.seq_len\n",
    "\n",
    "for dataT in ['mixed', 'normal']:\n",
    "    # if dataT == 'normal':\n",
    "    #     continue\n",
    "    args.seq_len = temp_seq_len\n",
    "    args.data_type = dataT\n",
    "    # train_set, train_loader = data_provider(args, 'train_c')\n",
    "    # valid_set, valid_loader = data_provider(args, 'valid')\n",
    "    # test_set, test_loader = data_provider(args, 'test')\n",
    "    # data_loaders = {'train': train_loader, 'val': valid_loader, 'test': test_loader}\n",
    "    if dataT == 'mixed':\n",
    "        data_loaders = mixed_C_loaders\n",
    "    else:\n",
    "        data_loaders = normal_C_loaders\n",
    "    \n",
    "    for phase in phases:\n",
    "        for chT in chTs:\n",
    "            if args.data == '3D/new/':\n",
    "                args.seq_len = phase2len[phase]\n",
    "                args.input_channel = ch[chT]\n",
    "            for lossf in ['MSE/', 'CE/']:\n",
    "                if lossf == 'MSE/':\n",
    "                    criterion = nn.MSELoss().to(args.device)\n",
    "                else:\n",
    "                    criterion = nn.CrossEntropyLoss().to(args.device)\n",
    "                encoder_ckpt = f'{args.checkpoints+args.data+args.model}_{args.data_type}_{chT}_{phase}_'\n",
    "                classifier_ckpt = f'{args.checkpoints+args.data+lossf+args.model}_{args.data_type}_{chT}_{phase}_'\n",
    "                \n",
    "                ts = seq_start[phase]\n",
    "                te = ts + args.seq_len\n",
    "                cs = channel_start[chT]\n",
    "                ce = cs + args.input_channel\n",
    "                \n",
    "                for classifierT in ['', 'best_']:\n",
    "                    encoder = ConvEncoder(args.input_channel, args.t, args.output_channel).to(args.device)\n",
    "                    encoder.load_state_dict(torch.load(encoder_ckpt+'encoder.pth'))\n",
    "                    classifier = Classifier(args.seq_len//(2**args.layer_num)*args.output_channel, args.class_num).to(args.device)\n",
    "                    classifier.load_state_dict(torch.load(classifier_ckpt+classifierT+'classifier.pth'))\n",
    "                    \n",
    "                    correct = 0\n",
    "                    total = 0\n",
    "\n",
    "                    with torch.no_grad():\n",
    "                        for inputs, labels in data_loaders[\"test\"]:\n",
    "                            inputs = inputs.to(args.device)[:,ts:te,cs:ce].type(torch.float32).transpose(1, 2)\n",
    "                            labels_onehot = F.one_hot(labels, num_classes=args.class_num).to(args.device).type(torch.float32)\n",
    "                            labels = labels.to(args.device).type(torch.float32)\n",
    "\n",
    "                            hidden = encoder(inputs)\n",
    "                            outputs = classifier(hidden.reshape(hidden.size(0), -1)).type(torch.float32)\n",
    "                            \n",
    "                            total += labels.size(0)\n",
    "                            correct += (outputs.argmax(1) == labels).sum().item()\n",
    "                    print(args.data_type, classifierT+'classifier', lossf)\n",
    "                    print('Accuracy:', correct/total * 100, '%')\n",
    "            break\n",
    "        break\n",
    "    args.seq_len = temp_seq_len\n",
    "    break"
   ]
  },
  {
   "cell_type": "code",
   "execution_count": 17,
   "metadata": {},
   "outputs": [
    {
     "data": {
      "text/plain": [
       "tensor([0, 0, 0, 0, 0, 0, 0, 0, 0, 0, 0, 0, 0, 0, 0, 0, 0, 0, 0, 0, 0, 0, 0, 0,\n",
       "        0, 0, 0, 0, 0, 0, 0, 0, 0, 0, 0, 0, 0, 0, 0, 0, 0, 0, 0, 0, 0, 0],\n",
       "       device='cuda:0')"
      ]
     },
     "execution_count": 17,
     "metadata": {},
     "output_type": "execute_result"
    }
   ],
   "source": [
    "outputs.argmax(1)"
   ]
  },
  {
   "cell_type": "code",
   "execution_count": 18,
   "metadata": {},
   "outputs": [
    {
     "data": {
      "text/plain": [
       "tensor([[1.9903, 0.9199, 0.9947, 0.4194, 1.0879],\n",
       "        [1.9900, 0.9199, 0.9946, 0.4191, 1.0881],\n",
       "        [1.9903, 0.9199, 0.9947, 0.4194, 1.0879],\n",
       "        [1.9901, 0.9199, 0.9946, 0.4191, 1.0881],\n",
       "        [1.9903, 0.9199, 0.9948, 0.4194, 1.0879],\n",
       "        [1.9903, 0.9199, 0.9947, 0.4194, 1.0879],\n",
       "        [1.9902, 0.9199, 0.9947, 0.4192, 1.0880],\n",
       "        [1.9903, 0.9199, 0.9947, 0.4194, 1.0879],\n",
       "        [1.9903, 0.9199, 0.9947, 0.4194, 1.0879],\n",
       "        [1.9903, 0.9199, 0.9947, 0.4194, 1.0879],\n",
       "        [1.9902, 0.9199, 0.9947, 0.4192, 1.0880],\n",
       "        [1.9903, 0.9199, 0.9947, 0.4194, 1.0879],\n",
       "        [1.9904, 0.9199, 0.9948, 0.4195, 1.0879],\n",
       "        [1.9903, 0.9205, 0.9946, 0.4193, 1.0887],\n",
       "        [1.9895, 0.9200, 0.9944, 0.4183, 1.0884],\n",
       "        [1.9903, 0.9199, 0.9947, 0.4194, 1.0879],\n",
       "        [1.9895, 0.9200, 0.9943, 0.4182, 1.0884],\n",
       "        [1.9902, 0.9199, 0.9947, 0.4192, 1.0880],\n",
       "        [1.9902, 0.9199, 0.9947, 0.4193, 1.0880],\n",
       "        [1.9900, 0.9199, 0.9946, 0.4191, 1.0881],\n",
       "        [1.9901, 0.9199, 0.9946, 0.4192, 1.0880],\n",
       "        [1.9903, 0.9199, 0.9947, 0.4194, 1.0879],\n",
       "        [1.9903, 0.9199, 0.9947, 0.4194, 1.0879],\n",
       "        [1.9899, 0.9199, 0.9945, 0.4189, 1.0881],\n",
       "        [1.9903, 0.9199, 0.9947, 0.4194, 1.0879],\n",
       "        [1.9903, 0.9199, 0.9947, 0.4194, 1.0879],\n",
       "        [1.9903, 0.9199, 0.9947, 0.4194, 1.0879],\n",
       "        [1.9885, 0.9199, 0.9939, 0.4168, 1.0889],\n",
       "        [1.9895, 0.9199, 0.9943, 0.4182, 1.0884],\n",
       "        [1.9903, 0.9205, 0.9946, 0.4193, 1.0887],\n",
       "        [1.9903, 0.9199, 0.9947, 0.4194, 1.0879],\n",
       "        [1.9903, 0.9199, 0.9947, 0.4194, 1.0879],\n",
       "        [1.9899, 0.9199, 0.9945, 0.4189, 1.0881],\n",
       "        [1.9902, 0.9193, 0.9947, 0.4193, 1.0872],\n",
       "        [1.9902, 0.9199, 0.9947, 0.4193, 1.0880],\n",
       "        [1.9903, 0.9199, 0.9947, 0.4194, 1.0879],\n",
       "        [1.9901, 0.9199, 0.9946, 0.4192, 1.0880],\n",
       "        [1.9890, 0.9200, 0.9941, 0.4174, 1.0887],\n",
       "        [1.9903, 0.9199, 0.9947, 0.4194, 1.0879],\n",
       "        [1.9902, 0.9199, 0.9947, 0.4192, 1.0880],\n",
       "        [1.9903, 0.9199, 0.9948, 0.4194, 1.0879],\n",
       "        [1.9904, 0.9199, 0.9948, 0.4195, 1.0879],\n",
       "        [1.9903, 0.9199, 0.9948, 0.4194, 1.0879],\n",
       "        [1.9888, 0.9199, 0.9940, 0.4172, 1.0888],\n",
       "        [1.9903, 0.9199, 0.9947, 0.4194, 1.0879],\n",
       "        [1.9903, 0.9199, 0.9947, 0.4194, 1.0879]], device='cuda:0')"
      ]
     },
     "execution_count": 18,
     "metadata": {},
     "output_type": "execute_result"
    }
   ],
   "source": [
    "outputs"
   ]
  },
  {
   "cell_type": "code",
   "execution_count": 19,
   "metadata": {},
   "outputs": [
    {
     "data": {
      "text/plain": [
       "tensor([0., 2., 0., 2., 3., 0., 3., 0., 0., 0., 3., 0., 3., 4., 1., 0., 1., 3.,\n",
       "        3., 2., 3., 0., 0., 2., 0., 0., 0., 1., 1., 4., 0., 0., 2., 4., 4., 0.,\n",
       "        2., 1., 0., 3., 3., 3., 3., 1., 0., 0.], device='cuda:0')"
      ]
     },
     "execution_count": 19,
     "metadata": {},
     "output_type": "execute_result"
    }
   ],
   "source": [
    "labels"
   ]
  },
  {
   "cell_type": "code",
   "execution_count": 20,
   "metadata": {},
   "outputs": [
    {
     "data": {
      "text/plain": [
       "tensor([[1., 0., 0., 0., 0.],\n",
       "        [0., 0., 1., 0., 0.],\n",
       "        [1., 0., 0., 0., 0.],\n",
       "        [0., 0., 1., 0., 0.],\n",
       "        [0., 0., 0., 1., 0.],\n",
       "        [1., 0., 0., 0., 0.],\n",
       "        [0., 0., 0., 1., 0.],\n",
       "        [1., 0., 0., 0., 0.],\n",
       "        [1., 0., 0., 0., 0.],\n",
       "        [1., 0., 0., 0., 0.],\n",
       "        [0., 0., 0., 1., 0.],\n",
       "        [1., 0., 0., 0., 0.],\n",
       "        [0., 0., 0., 1., 0.],\n",
       "        [0., 0., 0., 0., 1.],\n",
       "        [0., 1., 0., 0., 0.],\n",
       "        [1., 0., 0., 0., 0.],\n",
       "        [0., 1., 0., 0., 0.],\n",
       "        [0., 0., 0., 1., 0.],\n",
       "        [0., 0., 0., 1., 0.],\n",
       "        [0., 0., 1., 0., 0.],\n",
       "        [0., 0., 0., 1., 0.],\n",
       "        [1., 0., 0., 0., 0.],\n",
       "        [1., 0., 0., 0., 0.],\n",
       "        [0., 0., 1., 0., 0.],\n",
       "        [1., 0., 0., 0., 0.],\n",
       "        [1., 0., 0., 0., 0.],\n",
       "        [1., 0., 0., 0., 0.],\n",
       "        [0., 1., 0., 0., 0.],\n",
       "        [0., 1., 0., 0., 0.],\n",
       "        [0., 0., 0., 0., 1.],\n",
       "        [1., 0., 0., 0., 0.],\n",
       "        [1., 0., 0., 0., 0.],\n",
       "        [0., 0., 1., 0., 0.],\n",
       "        [0., 0., 0., 0., 1.],\n",
       "        [0., 0., 0., 0., 1.],\n",
       "        [1., 0., 0., 0., 0.],\n",
       "        [0., 0., 1., 0., 0.],\n",
       "        [0., 1., 0., 0., 0.],\n",
       "        [1., 0., 0., 0., 0.],\n",
       "        [0., 0., 0., 1., 0.],\n",
       "        [0., 0., 0., 1., 0.],\n",
       "        [0., 0., 0., 1., 0.],\n",
       "        [0., 0., 0., 1., 0.],\n",
       "        [0., 1., 0., 0., 0.],\n",
       "        [1., 0., 0., 0., 0.],\n",
       "        [1., 0., 0., 0., 0.]], device='cuda:0')"
      ]
     },
     "execution_count": 20,
     "metadata": {},
     "output_type": "execute_result"
    }
   ],
   "source": [
    "labels_onehot"
   ]
  }
 ],
 "metadata": {
  "kernelspec": {
   "display_name": "base",
   "language": "python",
   "name": "python3"
  },
  "language_info": {
   "codemirror_mode": {
    "name": "ipython",
    "version": 3
   },
   "file_extension": ".py",
   "mimetype": "text/x-python",
   "name": "python",
   "nbconvert_exporter": "python",
   "pygments_lexer": "ipython3",
   "version": "3.10.8"
  },
  "orig_nbformat": 4
 },
 "nbformat": 4,
 "nbformat_minor": 2
}
