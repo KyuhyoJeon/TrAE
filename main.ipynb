{
 "cells": [
  {
   "cell_type": "code",
   "execution_count": 1,
   "metadata": {},
   "outputs": [],
   "source": [
    "import pickle\n",
    "import numpy as np\n",
    "import pandas as pd\n",
    "import time\n",
    "import os\n",
    "import torch\n",
    "import torch.nn as nn\n",
    "import torch.optim as optim\n",
    "import torch.nn.functional as F\n",
    "from sklearn.model_selection import train_test_split\n",
    "\n",
    "from torch.utils.data import DataLoader, Dataset\n",
    "\n",
    "from Models import ConvEncoder, ConvDecoder, mlpEncoder, mlpDecoder, TrAE, Classifier, TrLSTM, TrLinear"
   ]
  },
  {
   "attachments": {},
   "cell_type": "markdown",
   "metadata": {},
   "source": [
    "## Data Preprocessing"
   ]
  },
  {
   "attachments": {},
   "cell_type": "markdown",
   "metadata": {},
   "source": [
    "### 2-Dimensional Trajectory"
   ]
  },
  {
   "attachments": {},
   "cell_type": "markdown",
   "metadata": {},
   "source": [
    "원본 .pickle 로드 및 전처리 후 .npy 저장"
   ]
  },
  {
   "cell_type": "code",
   "execution_count": 2,
   "metadata": {},
   "outputs": [
    {
     "data": {
      "text/plain": [
       "((2000, 2144, 5), (2000, 1), 0.24863266944885254)"
      ]
     },
     "execution_count": 2,
     "metadata": {},
     "output_type": "execute_result"
    }
   ],
   "source": [
    "'''\n",
    "Trajectory types: Normal, autopilot_lag, LOSrate_bias, LOSrate_delay\n",
    "Target distance = uniform(4500, 5500)\n",
    "states = [x, y, vm, path_angle] + 1 control input, 5 states\n",
    "label = 0, 1, 2, 3 for normal, autopilot_lag, LOSrate_bias, LOSrate_delay respectively, 4 classes\n",
    "minimum length of trajectory = 1360 (1360*0.01 = 13.6 seconds)\n",
    "maximum length of trajectory = 2131 (2131*0.01 = 21.31 seconds)\n",
    "fixed sequence length = 2144 (2400*0.01 = 24 seconds)\n",
    "'''\n",
    "start = time.time()\n",
    "with open('Data/2D/Trajectories.pickle', 'rb') as f:\n",
    "    Dataset = pickle.load(f)\n",
    "\n",
    "# normal = Dataset['normal_PNG']\n",
    "# lag = Dataset['autopilot_lag']\n",
    "# bias = Dataset['LOSrate_bias']\n",
    "# delay = Dataset['LOSrate_delay']\n",
    "seq_len = 2144\n",
    "\n",
    "label = 0\n",
    "x = []\n",
    "y = []\n",
    "for tr_type in Dataset:\n",
    "    states = Dataset[tr_type]['states']\n",
    "    inputs = Dataset[tr_type]['actions']\n",
    "    for i in range(len(states)):\n",
    "        tr = np.concatenate((states[i], np.insert(inputs[i], 0, 0).reshape(-1 ,1)), axis=1)\n",
    "        terminal = tr[-1].copy()\n",
    "        terminal[2]=terminal[4]=0\n",
    "        tr = np.concatenate((tr, np.tile(terminal, (seq_len-len(tr), 1))), axis=0)\n",
    "        x.append(tr)\n",
    "        y.append(label)\n",
    "    label += 1\n",
    "x = np.array(x)\n",
    "y = np.array(y).reshape(-1, 1)\n",
    "np.save('Data/2D/x.npy', x)\n",
    "np.save('Data/2D/y.npy', y)\n",
    "# x = np.load('Data/2D/x.npy')\n",
    "# y = np.load('Data/2D/y.npy')\n",
    "x.shape, y.shape, time.time()-start"
   ]
  },
  {
   "attachments": {},
   "cell_type": "markdown",
   "metadata": {},
   "source": [
    ".npy 로드"
   ]
  },
  {
   "cell_type": "code",
   "execution_count": 43,
   "metadata": {},
   "outputs": [
    {
     "data": {
      "text/plain": [
       "((2000, 2144, 5), (2000, 1), 4.354981899261475)"
      ]
     },
     "execution_count": 43,
     "metadata": {},
     "output_type": "execute_result"
    }
   ],
   "source": [
    "x = np.load('Data/2D/x.npy')\n",
    "y = np.load('Data/2D/y.npy')\n",
    "x.shape, y.shape, time.time()-start"
   ]
  },
  {
   "attachments": {},
   "cell_type": "markdown",
   "metadata": {},
   "source": [
    "### 3-Dimentional Trajectory old version"
   ]
  },
  {
   "attachments": {},
   "cell_type": "markdown",
   "metadata": {},
   "source": [
    "원본 .pickle 로드 및 전처리 후 .npy 저장"
   ]
  },
  {
   "cell_type": "code",
   "execution_count": 5,
   "metadata": {},
   "outputs": [
    {
     "data": {
      "text/plain": [
       "((700, 4576, 16), (700, 1), 438.2133049964905)"
      ]
     },
     "execution_count": 5,
     "metadata": {},
     "output_type": "execute_result"
    }
   ],
   "source": [
    "'''\n",
    "Trajectory types: Normal, Burn time, Xcp position, Thrust Tilt Angle, Fin bias\n",
    "Target Distance = 4000\n",
    "States = ['Accm_1', 'Accm_2', 'Accm_3', 'angEuler_1', 'angEuler_2', 'angEuler_3', 'Rmi_1', 'Rmi_2', 'Rmi_3', 'Vmi_1', 'Vmi_2', 'Vmi_3', 'Accm_Cmd_1', 'Accm_Cmd_2', 'Accm_Cmd_3', 'PhiCmd'], 16 states\n",
    "label = [0, 1, 2, 3, 4] for normal, burn_time, xcp_pos, thrust_tilt, fin_bias respectively, 5 classes\n",
    "minimum length of trajectory = 412 (412*0.01 = 4.12 seconds)\n",
    "maximum length of trajectory = 4569 (4569*0.01 = 45.69 seconds)\n",
    "fixed sequence length = 4576 (4576*0.01 = 45.76 seconds)\n",
    "'''\n",
    "start = time.time()\n",
    "seq_len = 4576\n",
    "x = []\n",
    "y = []\n",
    "\n",
    "for i, tr_type in enumerate(['Normal', 'Burntime', 'Xcpposition', \"ThrustTiltAngle\", 'Finbias']):\n",
    "    gid = pd.read_excel(f'Data/3D/old/Gid_{i+1}.xlsx', sheet_name=None)\n",
    "    msl = pd.read_excel(f'Data/3D/old/Msl_{i+1}.xlsx', sheet_name=None)\n",
    "    \n",
    "    for sheet in gid:\n",
    "        tr = pd.merge(msl[sheet][['Time', 'Rmi_1', 'Rmi_2', 'Rmi_3', 'Vmi_1', 'Vmi_2', 'Vmi_3', 'Accm_1', 'Accm_2', 'Accm_3', 'angEuler_1', 'angEuler_2', 'angEuler_3']], gid[sheet][['Time', 'Accm_Cmd_1', 'Accm_Cmd_2', 'Accm_Cmd_3', 'Phi_Cmd']]).to_numpy()[:, 1:]\n",
    "        terminal = tr[-1].copy()\n",
    "        terminal[3]=terminal[4]=terminal[5]=terminal[6]=terminal[7]=terminal[8]=terminal[12]=terminal[13]=terminal[14]=terminal[15]=0\n",
    "        tr = np.concatenate((tr, np.tile(terminal, (seq_len-len(tr), 1))), axis=0)\n",
    "        if sheet == 'Sheet1' and tr_type == 'Normal':\n",
    "            x = [tr for _ in range(140)]\n",
    "            y = [i for _ in range(140)]\n",
    "        else:\n",
    "            x.append(tr)\n",
    "            y.append(i)\n",
    "\n",
    "x = np.array(x)\n",
    "y = np.array(y).reshape(-1, 1)\n",
    "np.save('Data/3D/x_old.npy', x)\n",
    "np.save('Data/3D/y_old.npy', y)\n",
    "# x = np.load('Data/3D/x_old.npy')\n",
    "# y = np.load('Data/3D/y_old.npy')\n",
    "x.shape, y.shape, time.time()-start"
   ]
  },
  {
   "attachments": {},
   "cell_type": "markdown",
   "metadata": {},
   "source": [
    ".npy 로드"
   ]
  },
  {
   "cell_type": "code",
   "execution_count": 42,
   "metadata": {},
   "outputs": [
    {
     "data": {
      "text/plain": [
       "((700, 4576, 16), (700, 1), 0.07254505157470703)"
      ]
     },
     "execution_count": 42,
     "metadata": {},
     "output_type": "execute_result"
    }
   ],
   "source": [
    "start = time.time()\n",
    "x = np.load('Data/3D/x_old.npy')\n",
    "y = np.load('Data/3D/y_old.npy')\n",
    "x.shape, y.shape, time.time()-start"
   ]
  },
  {
   "attachments": {},
   "cell_type": "markdown",
   "metadata": {},
   "source": [
    "### 3-Dimensional Trajectory new version"
   ]
  },
  {
   "attachments": {},
   "cell_type": "markdown",
   "metadata": {},
   "source": [
    "원본 .pickle 로드 및 전처리 후 .npy 저장"
   ]
  },
  {
   "cell_type": "code",
   "execution_count": 128,
   "metadata": {},
   "outputs": [
    {
     "data": {
      "text/plain": [
       "((2500, 2656, 23), (2500, 1), 16.053280115127563)"
      ]
     },
     "execution_count": 128,
     "metadata": {},
     "output_type": "execute_result"
    }
   ],
   "source": [
    "'''\n",
    "Trajectory types: Normal, Burn time, Xcp position, Thrust Tilt Angle, Fin bias\n",
    "Target Distance = 4000\n",
    "Total states = ['Rmi_1', 'Rmi_2', 'Rmi_3', 'Vmi_1', 'Vmi_2', 'Vmi_3', 'Wmb_1', 'Wmb_2', 'Wmb_3', 'Accm_1', 'Accm_2', 'Accm_3', 'angEuler_1', 'angEuler_2', 'angEuler_3', 'FinOut_1', 'FinOut_2', 'FinOut_3', 'FinOut_4', 'err_FinBias_1', 'err_FinBias_2', 'err_FinBias_3', 'err_FinBias_4', 'FinCmd_1', 'FinCmd_2', 'FinCmd_3', 'FinCmd_4', 'err_BurnTime', 'err_Tilt_1', 'err_Tilt_2', 'err_delXcp'], 31 states\n",
    "Used States = ['Rmi_1', 'Rmi_2', 'Rmi_3', 'Vmi_1', 'Vmi_2', 'Vmi_3', 'Wmb_1', 'Wmb_2', 'Wmb_3', 'Accm_1', 'Accm_2', 'Accm_3', 'angEuler_1', 'angEuler_2', 'angEuler_3', 'FinOut_1', 'FinOut_2', 'FinOut_3', 'FinOut_4', 'FinCmd_1', 'FinCmd_2', 'FinCmd_3', 'FinCmd_4'], 23 states\n",
    "label = [0, 1, 2, 3, 4] for normal, burn_time, xcp_pos, thrust_tilt, fin_bias respectively, 5 classes\n",
    "minimum length of trajectory = 2449 (2448*0.01 = 24.48 seconds)\n",
    "maximum length of trajectory = 2635 (2635*0.01 = 26.35 seconds)\n",
    "fixed sequence length = 2656 (2656*0.01 = 26.56 seconds)\n",
    "'''\n",
    "start = time.time()\n",
    "seq_len = 2656\n",
    "x = []\n",
    "y = []\n",
    "tr = {}\n",
    "for i, tr_type in enumerate(['Normal', 'Burntime', 'Xcpposition', \"ThrustTiltAngle\", 'Finbias']):\n",
    "    N = 1 if i == 0 else 500\n",
    "    for tr_i in range(N):\n",
    "        tr = pd.read_csv(f'Data/3D/new/csv/Type_{i+1}_{tr_i+1}.csv', header=None)\n",
    "        tr.columns = ['Rmi_1', 'Rmi_2', 'Rmi_3', 'Vmi_1', 'Vmi_2', 'Vmi_3', 'Wmb_1', 'Wmb_2', 'Wmb_3', 'Accm_1', 'Accm_2', 'Accm_3', 'angEuler_1', 'angEuler_2', 'angEuler_3', 'FinOut_1', 'FinOut_2', 'FinOut_3', 'FinOut_4', 'err_FinBias_1', 'err_FinBias_2', 'err_FinBias_3', 'err_FinBias_4', 'FinCmd_1', 'FinCmd_2', 'FinCmd_3', 'FinCmd_4', 'err_BurnTime', 'err_Tilt_1', 'err_Tilt_2', 'err_delXcp']\n",
    "        tr = tr[['Rmi_1', 'Rmi_2', 'Rmi_3', 'Vmi_1', 'Vmi_2', 'Vmi_3', 'Wmb_1', 'Wmb_2', 'Wmb_3', 'Accm_1', 'Accm_2', 'Accm_3', 'angEuler_1', 'angEuler_2', 'angEuler_3', 'FinOut_1', 'FinOut_2', 'FinOut_3', 'FinOut_4', 'FinCmd_1', 'FinCmd_2', 'FinCmd_3', 'FinCmd_4']].to_numpy()\n",
    "        tr[0] = 4000 - tr[0]\n",
    "        terminal = tr[-1].copy()\n",
    "        terminal[3]=terminal[4]=terminal[5]=terminal[6]=terminal[7]=terminal[8]=terminal[12]=terminal[13]=terminal[14]=terminal[19]=terminal[20]=terminal[21]=terminal[22]=0\n",
    "        tr = np.concatenate((tr, np.tile(terminal, (seq_len-len(tr), 1))), axis=0)\n",
    "        if i == 0:\n",
    "            x = [tr for _ in range(500)]\n",
    "            y = [i for _ in range(500)]\n",
    "        else:\n",
    "            x.append(tr)\n",
    "            y.append(i)\n",
    "\n",
    "x = np.array(x)\n",
    "y = np.array(y).reshape(-1, 1)\n",
    "np.save('Data/3D/x_new.npy', x)\n",
    "np.save('Data/3D/y_new.npy', y)\n",
    "# x = np.load('Data/3D/x_new.npy')\n",
    "# y = np.load('Data/3D/y_new.npy')\n",
    "x.shape, y.shape, time.time()-start"
   ]
  },
  {
   "attachments": {},
   "cell_type": "markdown",
   "metadata": {},
   "source": [
    ".npy 로드"
   ]
  },
  {
   "cell_type": "code",
   "execution_count": 6,
   "metadata": {},
   "outputs": [
    {
     "data": {
      "text/plain": [
       "((2500, 2656, 23), (2500, 1), 0.24094510078430176)"
      ]
     },
     "execution_count": 6,
     "metadata": {},
     "output_type": "execute_result"
    }
   ],
   "source": [
    "start = time.time()\n",
    "x = np.load('Data/3D/x_new.npy')\n",
    "y = np.load('Data/3D/y_new.npy')\n",
    "x.shape, y.shape, time.time()-start"
   ]
  },
  {
   "attachments": {},
   "cell_type": "markdown",
   "metadata": {},
   "source": [
    "## Network Design"
   ]
  },
  {
   "cell_type": "code",
   "execution_count": 2,
   "metadata": {},
   "outputs": [],
   "source": [
    "input_channel = 23\n",
    "channels = [256, 384, 576, 864]\n",
    "output_channel = 64 # the embedding dimension"
   ]
  },
  {
   "cell_type": "code",
   "execution_count": 3,
   "metadata": {},
   "outputs": [],
   "source": [
    "start = time.time()\n",
    "x = np.load('Data/3D/x_new.npy')\n",
    "y = np.load('Data/3D/y_new.npy')\n",
    "x.shape, y.shape, time.time()-start\n",
    "\n",
    "x, test_x, y, test_y = train_test_split(x, y, test_size=0.2, random_state=42)\n",
    "train_x, valid_x, train_y, valid_y = train_test_split(x, y, test_size=0.3, random_state=42)"
   ]
  },
  {
   "cell_type": "code",
   "execution_count": 4,
   "metadata": {},
   "outputs": [
    {
     "ename": "TypeError",
     "evalue": "TrAE.forward() missing 1 required positional argument: 'x'",
     "output_type": "error",
     "traceback": [
      "\u001b[0;31m---------------------------------------------------------------------------\u001b[0m",
      "\u001b[0;31mTypeError\u001b[0m                                 Traceback (most recent call last)",
      "Cell \u001b[0;32mIn[4], line 3\u001b[0m\n\u001b[1;32m      1\u001b[0m input_size \u001b[39m=\u001b[39m \u001b[39m2656\u001b[39m\u001b[39m*\u001b[39m\u001b[39m23\u001b[39m\n\u001b[1;32m      2\u001b[0m channels \u001b[39m=\u001b[39m [\u001b[39m256\u001b[39m, \u001b[39m384\u001b[39m, \u001b[39m576\u001b[39m, \u001b[39m864\u001b[39m]\n\u001b[0;32m----> 3\u001b[0m TrAE(ConvEncoder, ConvDecoder, input_size, channels, input_size)()\n",
      "File \u001b[0;32m/opt/conda/lib/python3.10/site-packages/torch/nn/modules/module.py:1194\u001b[0m, in \u001b[0;36mModule._call_impl\u001b[0;34m(self, *input, **kwargs)\u001b[0m\n\u001b[1;32m   1190\u001b[0m \u001b[39m# If we don't have any hooks, we want to skip the rest of the logic in\u001b[39;00m\n\u001b[1;32m   1191\u001b[0m \u001b[39m# this function, and just call forward.\u001b[39;00m\n\u001b[1;32m   1192\u001b[0m \u001b[39mif\u001b[39;00m \u001b[39mnot\u001b[39;00m (\u001b[39mself\u001b[39m\u001b[39m.\u001b[39m_backward_hooks \u001b[39mor\u001b[39;00m \u001b[39mself\u001b[39m\u001b[39m.\u001b[39m_forward_hooks \u001b[39mor\u001b[39;00m \u001b[39mself\u001b[39m\u001b[39m.\u001b[39m_forward_pre_hooks \u001b[39mor\u001b[39;00m _global_backward_hooks\n\u001b[1;32m   1193\u001b[0m         \u001b[39mor\u001b[39;00m _global_forward_hooks \u001b[39mor\u001b[39;00m _global_forward_pre_hooks):\n\u001b[0;32m-> 1194\u001b[0m     \u001b[39mreturn\u001b[39;00m forward_call(\u001b[39m*\u001b[39;49m\u001b[39minput\u001b[39;49m, \u001b[39m*\u001b[39;49m\u001b[39m*\u001b[39;49mkwargs)\n\u001b[1;32m   1195\u001b[0m \u001b[39m# Do not call functions when jit is used\u001b[39;00m\n\u001b[1;32m   1196\u001b[0m full_backward_hooks, non_full_backward_hooks \u001b[39m=\u001b[39m [], []\n",
      "\u001b[0;31mTypeError\u001b[0m: TrAE.forward() missing 1 required positional argument: 'x'"
     ]
    }
   ],
   "source": [
    "input_size = 2656*23\n",
    "channels = [256, 384, 576, 864]\n",
    "TrAE(ConvEncoder, ConvDecoder, input_size, channels, input_size)()"
   ]
  },
  {
   "cell_type": "code",
   "execution_count": null,
   "metadata": {},
   "outputs": [],
   "source": [
    "import torch\n",
    "import torch.nn as nn\n",
    "\n",
    "# Load data\n",
    "train_data = torch.load('train_data.pt')\n",
    "test_data = torch.load('test_data.pt')\n",
    "\n",
    "# Define hyperparameters\n",
    "batch_size = 32\n",
    "seq_len = 2656\n",
    "input_size = 23\n",
    "channels = [256, 384, 576, 864]\n",
    "input_size = 2656*23\n",
    "learning_rate = 0.001\n",
    "num_epochs = 10\n",
    "hidden_size = 128\n",
    "num_classes = 5\n",
    "\n",
    "# Define data loaders\n",
    "train_loader = DataLoader(TensorDataset(train_x, train_y), batch_size=batch_size, shuffle=True)\n",
    "valid_loader = DataLoader(TensorDataset(valid_x, valid_y), batch_size=batch_size, shuffle=False)\n",
    "test_loader = DataLoader(TensorDataset(test_x, test_y), batch_size=batch_size, shuffle=False)\n",
    "\n",
    "# Define model and optimizer\n",
    "model = TrAE(ConvEncoder, ConvDecoder, input_size, channels, input_size)\n",
    "optimizer = optim.Adam(model.parameters(), lr=learning_rate)\n",
    "\n",
    "# Define loss function\n",
    "criterion = nn.CrossEntropyLoss()\n",
    "\n",
    "# Train MLP classifier\n",
    "for epoch in range(num_epochs):\n",
    "    for batch, (inputs, targets) in enumerate(train_loader):\n",
    "        # Zero gradients\n",
    "        optimizer.zero_grad()\n",
    "        \n",
    "        # Forward pass\n",
    "        outputs = mlp(inputs)\n",
    "        \n",
    "        # Compute loss\n",
    "        loss = criterion(outputs, targets)\n",
    "        \n",
    "        # Backward pass\n",
    "        loss.backward()\n",
    "        \n",
    "        # Update weights\n",
    "        optimizer.step()\n",
    "        \n",
    "        # Print loss\n",
    "        if batch % 100 == 0:\n",
    "            print(f'Epoch {epoch}, Batch {batch}, Loss: {loss.item():.4f}')\n",
    "            \n",
    "# Evaluate MLP classifier on test set\n",
    "mlp.eval()\n",
    "with torch.no_grad():\n",
    "    correct = 0\n",
    "    total = 0\n",
    "    for inputs, targets in test_loader:\n",
    "        outputs = mlp(inputs)\n",
    "        _, predicted = torch.max(outputs.data, 1)\n",
    "        total += targets.size(0)\n",
    "        correct += (predicted == targets).sum().item()\n",
    "\n",
    "    print(f'Accuracy on test set: {100 * correct / total:.2f}%')\n",
    "\n",
    "# Save MLP model\n",
    "torch.save(mlp.state_dict(), 'mlp.pt')\n"
   ]
  },
  {
   "cell_type": "code",
   "execution_count": 4,
   "metadata": {},
   "outputs": [],
   "source": [
    "model = Classifier(2656*23, 64, 5)\n",
    "model = Classifier(train_data['inputs'].shape[1], hidden_size, num_classes)"
   ]
  },
  {
   "cell_type": "code",
   "execution_count": 120,
   "metadata": {},
   "outputs": [
    {
     "name": "stderr",
     "output_type": "stream",
     "text": [
      "/tmp/ipykernel_3933504/57187517.py:2: UserWarning: Implicit dimension choice for log_softmax has been deprecated. Change the call to include dim=X as an argument.\n",
      "  criterion(F.log_softmax(model(torch.tensor(x).type(torch.float32).reshape(x.shape[0], -1))), torch.tensor(y).squeeze(1))\n"
     ]
    },
    {
     "data": {
      "text/plain": [
       "tensor(133.8840, grad_fn=<NllLossBackward0>)"
      ]
     },
     "execution_count": 120,
     "metadata": {},
     "output_type": "execute_result"
    }
   ],
   "source": [
    "criterion = nn.NLLLoss()\n",
    "criterion(F.log_softmax(model(torch.tensor(x).type(torch.float32).reshape(x.shape[0], -1))), torch.tensor(y).squeeze(1))"
   ]
  },
  {
   "cell_type": "code",
   "execution_count": 44,
   "metadata": {},
   "outputs": [
    {
     "data": {
      "text/plain": [
       "torch.Tensor"
      ]
     },
     "execution_count": 44,
     "metadata": {},
     "output_type": "execute_result"
    }
   ],
   "source": [
    "(torch.tensor(x).type(torch.float32).reshape(x.shape[0], -1))"
   ]
  },
  {
   "cell_type": "code",
   "execution_count": 17,
   "metadata": {},
   "outputs": [
    {
     "data": {
      "text/plain": [
       "torch.Size([2656, 23, 1])"
      ]
     },
     "execution_count": 17,
     "metadata": {},
     "output_type": "execute_result"
    }
   ],
   "source": [
    "input_channel = 23\n",
    "channels = [256, 384, 576, 864]\n",
    "output_channel = 64 # the embedding dimension\n",
    "\n",
    "\n",
    "nn.LSTM(512, 1, 1, batch_first=True)(nn.LSTM(1, 512, 4, batch_first=True)(torch.tensor(x).type(torch.float32)[0].unsqueeze(-1))[0])[0].shape"
   ]
  },
  {
   "cell_type": "code",
   "execution_count": 21,
   "metadata": {},
   "outputs": [
    {
     "data": {
      "text/plain": [
       "torch.Size([2656, 23, 64])"
      ]
     },
     "execution_count": 21,
     "metadata": {},
     "output_type": "execute_result"
    }
   ],
   "source": [
    "nn.Linear(channels[0], output_channel)(nn.LSTM(1, channels[0], 4, batch_first=True)(torch.tensor(x).type(torch.float32)[0].unsqueeze(-1))[0]).shape"
   ]
  },
  {
   "cell_type": "code",
   "execution_count": 25,
   "metadata": {},
   "outputs": [
    {
     "data": {
      "text/plain": [
       "torch.Size([2656, 23])"
      ]
     },
     "execution_count": 25,
     "metadata": {},
     "output_type": "execute_result"
    }
   ],
   "source": [
    "torch.tensor(x).type(torch.float32)[0].shape"
   ]
  },
  {
   "cell_type": "code",
   "execution_count": null,
   "metadata": {},
   "outputs": [],
   "source": []
  }
 ],
 "metadata": {
  "kernelspec": {
   "display_name": "base",
   "language": "python",
   "name": "python3"
  },
  "language_info": {
   "codemirror_mode": {
    "name": "ipython",
    "version": 3
   },
   "file_extension": ".py",
   "mimetype": "text/x-python",
   "name": "python",
   "nbconvert_exporter": "python",
   "pygments_lexer": "ipython3",
   "version": "3.10.8"
  },
  "orig_nbformat": 4
 },
 "nbformat": 4,
 "nbformat_minor": 2
}
