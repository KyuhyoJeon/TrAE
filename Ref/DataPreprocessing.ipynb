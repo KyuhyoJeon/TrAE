{
 "cells": [
  {
   "cell_type": "code",
   "execution_count": 3,
   "metadata": {},
   "outputs": [],
   "source": [
    "import torch\n",
    "import numpy as np\n",
    "import pandas as pd\n",
    "import os\n",
    "import pickle\n",
    "\n",
    "from tqdm.notebook import tqdm\n",
    "from utils import TrainTestDataSeperator"
   ]
  },
  {
   "cell_type": "markdown",
   "metadata": {},
   "source": [
    "# 0. Parameter Setting"
   ]
  },
  {
   "cell_type": "code",
   "execution_count": 4,
   "metadata": {},
   "outputs": [],
   "source": [
    "dataV = 'new'\n",
    "Ncases = 5\n",
    "Nsamples = 500"
   ]
  },
  {
   "cell_type": "code",
   "execution_count": 5,
   "metadata": {},
   "outputs": [
    {
     "name": "stdout",
     "output_type": "stream",
     "text": [
      "Time\n",
      "Rmi_1\n",
      "Rmi_2\n",
      "Rmi_3\n",
      "Vmi_1\n",
      "Vmi_2\n",
      "Vmi_3\n",
      "Wmb_1\n",
      "Wmb_2\n",
      "Wmb_3\n",
      "Accm_1\n",
      "Accm_2\n",
      "Accm_3\n",
      "angEuler_1\n",
      "angEuler_2\n",
      "angEuler_3\n",
      "FinCmd_1\n",
      "FinCmd_2\n",
      "FinCmd_3\n",
      "FinCmd_4\n"
     ]
    }
   ],
   "source": [
    "if dataV == 'new':\n",
    "    column_name = ['Rmi_1', 'Rmi_2', 'Rmi_3', 'Vmi_1', 'Vmi_2', 'Vmi_3', 'Wmb_1', 'Wmb_2', 'Wmb_3', 'Accm_1', 'Accm_2', 'Accm_3', 'angEuler_1', 'angEuler_2', 'angEuler_3', 'FinOut_1', 'FinOut_2', 'FinOut_3', 'FinOut_4', 'err_FinBias_1', 'err_FinBias_2', 'err_FinBias_3', 'err_FinBias_4', 'FinCmd_1', 'FinCmd_2', 'FinCmd_3', 'FinCmd_4', 'err_BurnTime', 'err_Tilt_1', 'err_Tilt_2', 'err_delXcp']\n",
    "    column_selected = ['Time', 'Rmi_1', 'Rmi_2', 'Rmi_3', 'Vmi_1', 'Vmi_2', 'Vmi_3', 'Wmb_1', 'Wmb_2', 'Wmb_3', 'Accm_1', 'Accm_2', 'Accm_3', 'angEuler_1', 'angEuler_2', 'angEuler_3', 'FinCmd_1', 'FinCmd_2', 'FinCmd_3', 'FinCmd_4']\n",
    "    for i in column_selected:\n",
    "        print(i)"
   ]
  },
  {
   "cell_type": "code",
   "execution_count": 177,
   "metadata": {},
   "outputs": [
    {
     "data": {
      "application/vnd.jupyter.widget-view+json": {
       "model_id": "77cab6459d614de6919077533f5bed79",
       "version_major": 2,
       "version_minor": 0
      },
      "text/plain": [
       "  0%|          | 0/5 [00:00<?, ?it/s]"
      ]
     },
     "metadata": {},
     "output_type": "display_data"
    }
   ],
   "source": [
    "if dataV == 'new':\n",
    "    path = './new/'\n",
    "    # file_list = os.listdir(path)\n",
    "    # print(file_list)\n",
    "\n",
    "    ###\n",
    "    # laod dataset MIMIC-III\n",
    "    ###\n",
    "    for case in range(Ncases):\n",
    "        globals()['datat{}'.format(case)] = {}\n",
    "        globals()['tgt{}'.format(case)] = {}\n",
    "        globals()['result{}'.format(case)] = {}\n",
    "\n",
    "    tgt = {'Rtio_1':[4000], 'Rtio_2':[0], 'Rtio_3':[0]}\n",
    "    target = pd.DataFrame(tgt)\n",
    "    rs = {}\n",
    "\n",
    "    for case in tqdm(range(Ncases)):\n",
    "        if case == 0:\n",
    "            data = pd.read_csv(path+f'Type_{case+1}_1.csv', header=None)\n",
    "            data.columns = column_name\n",
    "            data = data.rename_axis('Time').reset_index()\n",
    "            data['Time'] = (data['Time'].astype('float')-10)/100\n",
    "            ft = round(data['Time'].iloc[-1], 1)\n",
    "            md = round(((data['Rmi_1'].iloc[-1]**2) + \n",
    "                        (data['Rmi_2'].iloc[-1]**2) + \n",
    "                        (data['Rmi_3'].iloc[-1]**2))**0.5, 1)\n",
    "            rs['Time'] = [ft]\n",
    "            rs['MD'] = [md]\n",
    "            result = pd.DataFrame(rs)\n",
    "            for i in range(Nsamples):\n",
    "                globals()['datat{}'.format(case)][i] = data[column_selected]\n",
    "                globals()['tgt{}'.format(case)][i] = target\n",
    "                globals()['result{}'.format(case)][i] = result\n",
    "\n",
    "        else:\n",
    "            for i in range(Nsamples):\n",
    "                data= pd.read_csv(path+f'Type_{case+1}_{i+1}.csv', header=None)\n",
    "                data.columns = column_name\n",
    "                data = data.rename_axis('Time').reset_index()\n",
    "                data['Time'] = (data['Time'].astype('float')-10)/100\n",
    "                ft = round(data['Time'].iloc[-1], 1)\n",
    "                md = round(((data['Rmi_1'].iloc[-1]**2) + \n",
    "                            (data['Rmi_2'].iloc[-1]**2) + \n",
    "                            (data['Rmi_3'].iloc[-1]**2))**0.5, 1)\n",
    "                rs['Time'] = [ft]\n",
    "                rs['MD'] = [md]\n",
    "                result = pd.DataFrame(rs)\n",
    "                globals()['datat{}'.format(case)][i] = data[column_selected]\n",
    "                globals()['tgt{}'.format(case)][i] = target\n",
    "                globals()['result{}'.format(case)][i] = result"
   ]
  },
  {
   "cell_type": "code",
   "execution_count": 178,
   "metadata": {},
   "outputs": [
    {
     "name": "stdout",
     "output_type": "stream",
     "text": [
      "   Rtio_1  Rtio_2  Rtio_3\n",
      "0    4000       0       0\n",
      "   Time   MD\n",
      "0  25.4  0.1\n"
     ]
    },
    {
     "data": {
      "text/html": [
       "<div>\n",
       "<style scoped>\n",
       "    .dataframe tbody tr th:only-of-type {\n",
       "        vertical-align: middle;\n",
       "    }\n",
       "\n",
       "    .dataframe tbody tr th {\n",
       "        vertical-align: top;\n",
       "    }\n",
       "\n",
       "    .dataframe thead th {\n",
       "        text-align: right;\n",
       "    }\n",
       "</style>\n",
       "<table border=\"1\" class=\"dataframe\">\n",
       "  <thead>\n",
       "    <tr style=\"text-align: right;\">\n",
       "      <th></th>\n",
       "      <th>Time</th>\n",
       "      <th>Rmi_1</th>\n",
       "      <th>Rmi_2</th>\n",
       "      <th>Rmi_3</th>\n",
       "      <th>Vmi_1</th>\n",
       "      <th>Vmi_2</th>\n",
       "      <th>Vmi_3</th>\n",
       "      <th>Wmb_1</th>\n",
       "      <th>Wmb_2</th>\n",
       "      <th>Wmb_3</th>\n",
       "      <th>Accm_1</th>\n",
       "      <th>Accm_2</th>\n",
       "      <th>Accm_3</th>\n",
       "      <th>angEuler_1</th>\n",
       "      <th>angEuler_2</th>\n",
       "      <th>angEuler_3</th>\n",
       "      <th>FinCmd_1</th>\n",
       "      <th>FinCmd_2</th>\n",
       "      <th>FinCmd_3</th>\n",
       "      <th>FinCmd_4</th>\n",
       "    </tr>\n",
       "  </thead>\n",
       "  <tbody>\n",
       "    <tr>\n",
       "      <th>0</th>\n",
       "      <td>-0.10</td>\n",
       "      <td>4000.000000</td>\n",
       "      <td>0.000000</td>\n",
       "      <td>0.000000</td>\n",
       "      <td>0.000000</td>\n",
       "      <td>0.000000</td>\n",
       "      <td>-0.000000</td>\n",
       "      <td>0.000000</td>\n",
       "      <td>0.000000</td>\n",
       "      <td>0.000000</td>\n",
       "      <td>-1.283886e-19</td>\n",
       "      <td>0.000000</td>\n",
       "      <td>0.000000</td>\n",
       "      <td>45.000000</td>\n",
       "      <td>15.000000</td>\n",
       "      <td>0.000000</td>\n",
       "      <td>0.000000</td>\n",
       "      <td>0.000000</td>\n",
       "      <td>0.000000</td>\n",
       "      <td>0.000000</td>\n",
       "    </tr>\n",
       "    <tr>\n",
       "      <th>1</th>\n",
       "      <td>-0.09</td>\n",
       "      <td>4000.000000</td>\n",
       "      <td>0.000000</td>\n",
       "      <td>0.000000</td>\n",
       "      <td>0.000000</td>\n",
       "      <td>0.000000</td>\n",
       "      <td>-0.000000</td>\n",
       "      <td>0.000000</td>\n",
       "      <td>0.000000</td>\n",
       "      <td>0.000000</td>\n",
       "      <td>-1.283886e-19</td>\n",
       "      <td>0.000000</td>\n",
       "      <td>0.000000</td>\n",
       "      <td>45.000000</td>\n",
       "      <td>15.000000</td>\n",
       "      <td>0.000000</td>\n",
       "      <td>0.000000</td>\n",
       "      <td>0.000000</td>\n",
       "      <td>0.000000</td>\n",
       "      <td>0.000000</td>\n",
       "    </tr>\n",
       "    <tr>\n",
       "      <th>2</th>\n",
       "      <td>-0.08</td>\n",
       "      <td>4000.000000</td>\n",
       "      <td>0.000000</td>\n",
       "      <td>0.000000</td>\n",
       "      <td>0.000000</td>\n",
       "      <td>0.000000</td>\n",
       "      <td>-0.000000</td>\n",
       "      <td>0.000000</td>\n",
       "      <td>0.000000</td>\n",
       "      <td>0.000000</td>\n",
       "      <td>-1.283886e-19</td>\n",
       "      <td>0.000000</td>\n",
       "      <td>0.000000</td>\n",
       "      <td>45.000000</td>\n",
       "      <td>15.000000</td>\n",
       "      <td>0.000000</td>\n",
       "      <td>0.000000</td>\n",
       "      <td>0.000000</td>\n",
       "      <td>0.000000</td>\n",
       "      <td>0.000000</td>\n",
       "    </tr>\n",
       "    <tr>\n",
       "      <th>3</th>\n",
       "      <td>-0.07</td>\n",
       "      <td>4000.000000</td>\n",
       "      <td>0.000000</td>\n",
       "      <td>0.000000</td>\n",
       "      <td>0.000000</td>\n",
       "      <td>0.000000</td>\n",
       "      <td>-0.000000</td>\n",
       "      <td>0.000000</td>\n",
       "      <td>0.000000</td>\n",
       "      <td>0.000000</td>\n",
       "      <td>-1.283886e-19</td>\n",
       "      <td>0.000000</td>\n",
       "      <td>0.000000</td>\n",
       "      <td>45.000000</td>\n",
       "      <td>15.000000</td>\n",
       "      <td>0.000000</td>\n",
       "      <td>0.000000</td>\n",
       "      <td>0.000000</td>\n",
       "      <td>0.000000</td>\n",
       "      <td>0.000000</td>\n",
       "    </tr>\n",
       "    <tr>\n",
       "      <th>4</th>\n",
       "      <td>-0.06</td>\n",
       "      <td>4000.000000</td>\n",
       "      <td>0.000000</td>\n",
       "      <td>0.000000</td>\n",
       "      <td>0.000000</td>\n",
       "      <td>0.000000</td>\n",
       "      <td>-0.000000</td>\n",
       "      <td>0.000000</td>\n",
       "      <td>0.000000</td>\n",
       "      <td>0.000000</td>\n",
       "      <td>-1.283886e-19</td>\n",
       "      <td>0.000000</td>\n",
       "      <td>0.000000</td>\n",
       "      <td>45.000000</td>\n",
       "      <td>15.000000</td>\n",
       "      <td>0.000000</td>\n",
       "      <td>0.000000</td>\n",
       "      <td>0.000000</td>\n",
       "      <td>0.000000</td>\n",
       "      <td>0.000000</td>\n",
       "    </tr>\n",
       "    <tr>\n",
       "      <th>...</th>\n",
       "      <td>...</td>\n",
       "      <td>...</td>\n",
       "      <td>...</td>\n",
       "      <td>...</td>\n",
       "      <td>...</td>\n",
       "      <td>...</td>\n",
       "      <td>...</td>\n",
       "      <td>...</td>\n",
       "      <td>...</td>\n",
       "      <td>...</td>\n",
       "      <td>...</td>\n",
       "      <td>...</td>\n",
       "      <td>...</td>\n",
       "      <td>...</td>\n",
       "      <td>...</td>\n",
       "      <td>...</td>\n",
       "      <td>...</td>\n",
       "      <td>...</td>\n",
       "      <td>...</td>\n",
       "      <td>...</td>\n",
       "    </tr>\n",
       "    <tr>\n",
       "      <th>2499</th>\n",
       "      <td>24.89</td>\n",
       "      <td>4.852072</td>\n",
       "      <td>-0.000056</td>\n",
       "      <td>4.595263</td>\n",
       "      <td>-107.256863</td>\n",
       "      <td>-0.000665</td>\n",
       "      <td>-107.460972</td>\n",
       "      <td>-0.030976</td>\n",
       "      <td>37.331893</td>\n",
       "      <td>-37.339701</td>\n",
       "      <td>-3.332257e-01</td>\n",
       "      <td>-0.811573</td>\n",
       "      <td>-0.810850</td>\n",
       "      <td>45.000193</td>\n",
       "      <td>-39.639432</td>\n",
       "      <td>-0.000854</td>\n",
       "      <td>-13.281274</td>\n",
       "      <td>-13.282938</td>\n",
       "      <td>13.281041</td>\n",
       "      <td>13.282705</td>\n",
       "    </tr>\n",
       "    <tr>\n",
       "      <th>2500</th>\n",
       "      <td>24.90</td>\n",
       "      <td>3.779264</td>\n",
       "      <td>-0.000063</td>\n",
       "      <td>3.520713</td>\n",
       "      <td>-107.305968</td>\n",
       "      <td>-0.000615</td>\n",
       "      <td>-107.447437</td>\n",
       "      <td>-0.027001</td>\n",
       "      <td>36.741703</td>\n",
       "      <td>-36.749571</td>\n",
       "      <td>-3.384084e-01</td>\n",
       "      <td>-0.921677</td>\n",
       "      <td>-0.920930</td>\n",
       "      <td>44.999946</td>\n",
       "      <td>-39.115350</td>\n",
       "      <td>-0.000926</td>\n",
       "      <td>-14.225071</td>\n",
       "      <td>-14.228241</td>\n",
       "      <td>14.224762</td>\n",
       "      <td>14.227931</td>\n",
       "    </tr>\n",
       "    <tr>\n",
       "      <th>2501</th>\n",
       "      <td>24.91</td>\n",
       "      <td>2.705925</td>\n",
       "      <td>-0.000069</td>\n",
       "      <td>2.446358</td>\n",
       "      <td>-107.362714</td>\n",
       "      <td>-0.000557</td>\n",
       "      <td>-107.421841</td>\n",
       "      <td>-0.021364</td>\n",
       "      <td>35.902311</td>\n",
       "      <td>-35.909516</td>\n",
       "      <td>-3.445579e-01</td>\n",
       "      <td>-1.018470</td>\n",
       "      <td>-1.017581</td>\n",
       "      <td>44.999748</td>\n",
       "      <td>-38.601487</td>\n",
       "      <td>-0.000997</td>\n",
       "      <td>-15.223837</td>\n",
       "      <td>-15.228419</td>\n",
       "      <td>15.223520</td>\n",
       "      <td>15.228103</td>\n",
       "    </tr>\n",
       "    <tr>\n",
       "      <th>2502</th>\n",
       "      <td>24.92</td>\n",
       "      <td>1.631986</td>\n",
       "      <td>-0.000074</td>\n",
       "      <td>1.372315</td>\n",
       "      <td>-107.425753</td>\n",
       "      <td>-0.000489</td>\n",
       "      <td>-107.385369</td>\n",
       "      <td>-0.015241</td>\n",
       "      <td>34.904893</td>\n",
       "      <td>-34.910197</td>\n",
       "      <td>-3.515994e-01</td>\n",
       "      <td>-1.103399</td>\n",
       "      <td>-1.102371</td>\n",
       "      <td>44.999603</td>\n",
       "      <td>-38.100710</td>\n",
       "      <td>-0.001057</td>\n",
       "      <td>-16.253199</td>\n",
       "      <td>-16.258348</td>\n",
       "      <td>16.252915</td>\n",
       "      <td>16.258063</td>\n",
       "    </tr>\n",
       "    <tr>\n",
       "      <th>2503</th>\n",
       "      <td>24.93</td>\n",
       "      <td>0.557390</td>\n",
       "      <td>-0.000078</td>\n",
       "      <td>0.298687</td>\n",
       "      <td>-107.493930</td>\n",
       "      <td>-0.000413</td>\n",
       "      <td>-107.339070</td>\n",
       "      <td>-0.009502</td>\n",
       "      <td>33.822778</td>\n",
       "      <td>-33.825273</td>\n",
       "      <td>-3.594155e-01</td>\n",
       "      <td>-1.178300</td>\n",
       "      <td>-1.177216</td>\n",
       "      <td>44.999504</td>\n",
       "      <td>-37.614721</td>\n",
       "      <td>-0.001098</td>\n",
       "      <td>-17.291617</td>\n",
       "      <td>-17.296185</td>\n",
       "      <td>17.291376</td>\n",
       "      <td>17.295943</td>\n",
       "    </tr>\n",
       "  </tbody>\n",
       "</table>\n",
       "<p>2504 rows × 20 columns</p>\n",
       "</div>"
      ],
      "text/plain": [
       "       Time        Rmi_1     Rmi_2     Rmi_3       Vmi_1     Vmi_2  \\\n",
       "0     -0.10  4000.000000  0.000000  0.000000    0.000000  0.000000   \n",
       "1     -0.09  4000.000000  0.000000  0.000000    0.000000  0.000000   \n",
       "2     -0.08  4000.000000  0.000000  0.000000    0.000000  0.000000   \n",
       "3     -0.07  4000.000000  0.000000  0.000000    0.000000  0.000000   \n",
       "4     -0.06  4000.000000  0.000000  0.000000    0.000000  0.000000   \n",
       "...     ...          ...       ...       ...         ...       ...   \n",
       "2499  24.89     4.852072 -0.000056  4.595263 -107.256863 -0.000665   \n",
       "2500  24.90     3.779264 -0.000063  3.520713 -107.305968 -0.000615   \n",
       "2501  24.91     2.705925 -0.000069  2.446358 -107.362714 -0.000557   \n",
       "2502  24.92     1.631986 -0.000074  1.372315 -107.425753 -0.000489   \n",
       "2503  24.93     0.557390 -0.000078  0.298687 -107.493930 -0.000413   \n",
       "\n",
       "           Vmi_3     Wmb_1      Wmb_2      Wmb_3        Accm_1    Accm_2  \\\n",
       "0      -0.000000  0.000000   0.000000   0.000000 -1.283886e-19  0.000000   \n",
       "1      -0.000000  0.000000   0.000000   0.000000 -1.283886e-19  0.000000   \n",
       "2      -0.000000  0.000000   0.000000   0.000000 -1.283886e-19  0.000000   \n",
       "3      -0.000000  0.000000   0.000000   0.000000 -1.283886e-19  0.000000   \n",
       "4      -0.000000  0.000000   0.000000   0.000000 -1.283886e-19  0.000000   \n",
       "...          ...       ...        ...        ...           ...       ...   \n",
       "2499 -107.460972 -0.030976  37.331893 -37.339701 -3.332257e-01 -0.811573   \n",
       "2500 -107.447437 -0.027001  36.741703 -36.749571 -3.384084e-01 -0.921677   \n",
       "2501 -107.421841 -0.021364  35.902311 -35.909516 -3.445579e-01 -1.018470   \n",
       "2502 -107.385369 -0.015241  34.904893 -34.910197 -3.515994e-01 -1.103399   \n",
       "2503 -107.339070 -0.009502  33.822778 -33.825273 -3.594155e-01 -1.178300   \n",
       "\n",
       "        Accm_3  angEuler_1  angEuler_2  angEuler_3   FinCmd_1   FinCmd_2  \\\n",
       "0     0.000000   45.000000   15.000000    0.000000   0.000000   0.000000   \n",
       "1     0.000000   45.000000   15.000000    0.000000   0.000000   0.000000   \n",
       "2     0.000000   45.000000   15.000000    0.000000   0.000000   0.000000   \n",
       "3     0.000000   45.000000   15.000000    0.000000   0.000000   0.000000   \n",
       "4     0.000000   45.000000   15.000000    0.000000   0.000000   0.000000   \n",
       "...        ...         ...         ...         ...        ...        ...   \n",
       "2499 -0.810850   45.000193  -39.639432   -0.000854 -13.281274 -13.282938   \n",
       "2500 -0.920930   44.999946  -39.115350   -0.000926 -14.225071 -14.228241   \n",
       "2501 -1.017581   44.999748  -38.601487   -0.000997 -15.223837 -15.228419   \n",
       "2502 -1.102371   44.999603  -38.100710   -0.001057 -16.253199 -16.258348   \n",
       "2503 -1.177216   44.999504  -37.614721   -0.001098 -17.291617 -17.296185   \n",
       "\n",
       "       FinCmd_3   FinCmd_4  \n",
       "0      0.000000   0.000000  \n",
       "1      0.000000   0.000000  \n",
       "2      0.000000   0.000000  \n",
       "3      0.000000   0.000000  \n",
       "4      0.000000   0.000000  \n",
       "...         ...        ...  \n",
       "2499  13.281041  13.282705  \n",
       "2500  14.224762  14.227931  \n",
       "2501  15.223520  15.228103  \n",
       "2502  16.252915  16.258063  \n",
       "2503  17.291376  17.295943  \n",
       "\n",
       "[2504 rows x 20 columns]"
      ]
     },
     "execution_count": 178,
     "metadata": {},
     "output_type": "execute_result"
    }
   ],
   "source": [
    "if dataV == 'new':\n",
    "    print(tgt2[1])\n",
    "    print(result2[1])\n",
    "    # datat2[1]\n",
    "datat0[499]"
   ]
  },
  {
   "cell_type": "markdown",
   "metadata": {},
   "source": [
    "# 1. Reading Excel Files\n",
    "- collections : 0~4\n",
    "  - 0 : NormalPNG\n",
    "  - 1 : magVm\n",
    "  - 2 : delXcp\n",
    "  - 3 : Tilt\n",
    "  - 4 : FinBias"
   ]
  },
  {
   "cell_type": "code",
   "execution_count": 179,
   "metadata": {},
   "outputs": [],
   "source": [
    "if dataV == 'old':\n",
    "    # Set directory\n",
    "    base_dir = './Dataset/Missile Data_20211105'\n",
    "\n",
    "    for case in tqdm(range(Ncases)):\n",
    "        # Set excel file directory\n",
    "        Msl_excel_file = 'Msl_'+str(case+1)+'.xlsx'\n",
    "        Ctrl_excel_file = 'Gid_'+str(case+1)+'.xlsx'\n",
    "        Tgt_excel_file = 'Tgt_'+str(case+1)+'.xlsx'\n",
    "        Result_excel_file = 'Result_'+str(case+1)+'.xlsx'\n",
    "\n",
    "        Msl_excel_dir = os.path.join(base_dir, Msl_excel_file)\n",
    "        Ctrl_excel_dir = os.path.join(base_dir, Ctrl_excel_file)\n",
    "        Tgt_excel_dir = os.path.join(base_dir, Tgt_excel_file)\n",
    "        Result_excel_dir = os.path.join(base_dir, Result_excel_file)\n",
    "\n",
    "        # Read excel files\n",
    "        globals()['Msl_collections{}'.format(case)] =  pd.read_excel(Msl_excel_dir, sheet_name = None, engine = 'openpyxl')\n",
    "        globals()['Ctrl_collections{}'.format(case)] =  pd.read_excel(Ctrl_excel_dir, sheet_name = None, engine = 'openpyxl')\n",
    "        globals()['Tgt_collections{}'.format(case)] =  pd.read_excel(Tgt_excel_dir, sheet_name = None, engine = 'openpyxl')\n",
    "        globals()['Result_collections{}'.format(case)] =  pd.read_excel(Result_excel_dir, sheet_name = None, engine = 'openpyxl')"
   ]
  },
  {
   "cell_type": "code",
   "execution_count": 180,
   "metadata": {},
   "outputs": [],
   "source": [
    "if dataV == 'old':\n",
    "    # Check loaded Dataframe\n",
    "\n",
    "    Msl_collections0['Sheet1'].head(5)\n",
    "    Ctrl_collections0['Sheet1'].head(5)\n",
    "    Tgt_collections4['Sheet1'].head(5)\n",
    "    Result_collections0['Sheet1'].head(5)"
   ]
  },
  {
   "cell_type": "code",
   "execution_count": 181,
   "metadata": {},
   "outputs": [],
   "source": [
    "if dataV == 'old':\n",
    "    # Check data types\n",
    "    Msl_collections0['Sheet1'].dtypes"
   ]
  },
  {
   "cell_type": "code",
   "execution_count": 182,
   "metadata": {},
   "outputs": [],
   "source": [
    "if dataV == 'old':\n",
    "    # Check nan data\n",
    "    for i in range(Nsamples):\n",
    "        print(Msl_collections4['Sheet{}'.format(i+1)].isna().sum().sum(), i)"
   ]
  },
  {
   "cell_type": "code",
   "execution_count": 183,
   "metadata": {},
   "outputs": [],
   "source": [
    "if dataV == 'old':\n",
    "    # Data Upsampling for normalPNG\n",
    "    for n in range(Nsamples):\n",
    "        Msl_collections0['Sheet{}'.format(n+1)]= Msl_collections0['Sheet1']\n",
    "        Ctrl_collections0['Sheet{}'.format(n+1)] = Ctrl_collections0['Sheet1']\n",
    "        Tgt_collections0['Sheet{}'.format(n+1)] = Tgt_collections0['Sheet1']\n",
    "        Result_collections0['Sheet{}'.format(n+1)] = Result_collections0['Sheet1']"
   ]
  },
  {
   "cell_type": "markdown",
   "metadata": {},
   "source": [
    "# 2. Extracting Parameters\n",
    "## 2.1 Missle State Parameters\n",
    "- Time: 시뮬레이션 시간\n",
    "- Accm_1 : x축 동체 비가속도\n",
    "- Accm_2 : y축 동체 비가속도\n",
    "- Accm_3 : z축 동체 비가속도\n",
    "- angEuler_1: 미사일 roll 각\n",
    "- angEuler_2 : 미사일 pitch 각\n",
    "- angEuler_3 : 미사일 yaw 각\n",
    "- Rmi_1 : 관성 좌표계 x축 미사일 위치\n",
    "- Rmi_2 : 관성 죄표계 y축 미사일 위치\n",
    "- Rmi_3 : 관성 죄표계 z축 미사일 위치\n",
    "- Vmi_1 : 관성 좌표계 x축 미사일 속도\n",
    "- Vmi_2 : 관성 좌표계 x축 미사일 속도\n",
    "- Vmi_3 : 관성 좌표계 x축 미사일 속도\n",
    "\n",
    "## 2.2 Missle Action Parameters\n",
    "- Accm_Cmd_1 : x축 가속도 명령 (관성 좌표계 축인지 동체 축인지 확인 필요)\n",
    "- Accm_Cmd_2 : y축 가속도 명령\n",
    "- Accm_Cmd_3 : z축 가속도 명령\n",
    "- Phi_Cmd_1 : 이건 필요한지 FDCL과 이야기 해보고 판단할 문제\n",
    "\n",
    "## 2.3 Target Parameters\n",
    "- Rtio_1 : 관성 좌표계 x축 표적 초기 위치\n",
    "- Rtio_2 : 관성 좌표계 y축 표적 초기 위치\n",
    "- Rtio_3 : 관성 좌표계 z축 표적 초기 위치\n",
    "\n",
    "## 2.4 Result parameters\n",
    "- Time: 시뮬레이션 최종 시간\n",
    "- MD : Miss distance\n"
   ]
  },
  {
   "cell_type": "code",
   "execution_count": 184,
   "metadata": {},
   "outputs": [
    {
     "data": {
      "application/vnd.jupyter.widget-view+json": {
       "model_id": "2a0ce2b32fdf472ba6480654a85a5473",
       "version_major": 2,
       "version_minor": 0
      },
      "text/plain": [
       "  0%|          | 0/5 [00:00<?, ?it/s]"
      ]
     },
     "metadata": {},
     "output_type": "display_data"
    }
   ],
   "source": [
    "if dataV == 'new':\n",
    "    for case in tqdm(range(Ncases)):\n",
    "        globals()['Msl_states{}'.format(case)] = [[]for i in range(Nsamples)]\n",
    "        globals()['Msl_actions{}'.format(case)] = [[]for i in range(Nsamples)]\n",
    "        globals()['Tgt_states{}'.format(case)] = [[]for i in range(Nsamples)]\n",
    "        globals()['missDs{}'.format(case)] = [[]for i in range(Nsamples)]\n",
    "        globals()['tfs{}'.format(case)] = [[]for i in range(Nsamples)]\n",
    "\n",
    "        for n in range(Nsamples):\n",
    "            Msl_state = globals()['datat{}'.format(case)][n][['Time','Accm_1','Accm_2','Accm_3',\n",
    "                                                                'angEuler_1','angEuler_2','angEuler_3',\n",
    "                                                                'Rmi_1','Rmi_2','Rmi_3',\n",
    "                                                                'Vmi_1','Vmi_2','Vmi_3',]].values\n",
    "            Msl_action = globals()['datat{}'.format(case)][n][['FinCmd_1','FinCmd_2',\n",
    "                                                                 'FinCmd_3','FinCmd_4']].values\n",
    "            Tgt_state = globals()['tgt{}'.format(case)][n][['Rtio_1','Rtio_2','Rtio_3']].values\n",
    "            missD = globals()['result{}'.format(case)][n][['MD']].values\n",
    "            tf = globals()['result{}'.format(case)][n][['Time']].values\n",
    "\n",
    "            globals()['Msl_states{}'.format(case)][n] = np.array(Msl_state, dtype = np.float32) # data shape (timestep, 13)\n",
    "            globals()['Msl_actions{}'.format(case)][n] = np.array(Msl_action, dtype = np.float32) # data shape (timestep, 3)\n",
    "            globals()['Tgt_states{}'.format(case)][n] = np.array(Tgt_state, dtype = np.float32) #            (1,3)\n",
    "            globals()['missDs{}'.format(case)][n] = np.array(missD, dtype = np.float32)         #            (1,1)\n",
    "            globals()['tfs{}'.format(case)][n] = np.array(tf, dtype = np.float32) #    (1,1)\n",
    "\n",
    "# 모델에 넣고 돌리려면 float32로의 변환이 반드시 필요함!!!\n",
    "# 가속도 명령, 각속도 명령에 대한 값도 저장을 해야함"
   ]
  },
  {
   "cell_type": "code",
   "execution_count": 185,
   "metadata": {
    "scrolled": true
   },
   "outputs": [],
   "source": [
    "if dataV == 'old':\n",
    "    for case in tqdm(range(Ncases)):\n",
    "        globals()['Msl_states{}'.format(case)] = [[]for i in range(Nsamples)]\n",
    "        globals()['Msl_actions{}'.format(case)] = [[]for i in range(Nsamples)]\n",
    "        globals()['Tgt_states{}'.format(case)] = [[]for i in range(Nsamples)]\n",
    "        globals()['missDs{}'.format(case)] = [[]for i in range(Nsamples)]\n",
    "        globals()['tfs{}'.format(case)] = [[]for i in range(Nsamples)]\n",
    "\n",
    "        for n in range(Nsamples):\n",
    "            Msl_state = globals()['Msl_collections{}'.format(case)]['Sheet'+str(n+1)][['Time','Accm_1','Accm_2','Accm_3','angEuler_1','angEuler_2','angEuler_3',\n",
    "                                    'Rmi_1','Rmi_2','Rmi_3','Vmi_1','Vmi_2','Vmi_3',]].values\n",
    "            Msl_action = globals()['Ctrl_collections{}'.format(case)]['Sheet'+str(n+1)][['Accm_Cmd_1','Accm_Cmd_2','Accm_Cmd_3','Phi_Cmd']].values\n",
    "            Tgt_state = globals()['Tgt_collections{}'.format(case)]['Sheet'+str(n+1)][['Rtio_1','Rtio_2','Rtio_3']].values\n",
    "            missD = globals()['Result_collections{}'.format(case)]['Sheet'+str(n+1)][['MD']].values\n",
    "            tf = globals()['Result_collections{}'.format(case)]['Sheet'+str(n+1)][['Time']].values\n",
    "\n",
    "            globals()['Msl_states{}'.format(case)][n] = np.array(Msl_state, dtype = np.float32) # data shape (timestep, 13)\n",
    "            globals()['Msl_actions{}'.format(case)][n] = np.array(Msl_action, dtype = np.float32) # data shape (timestep, 3)\n",
    "            globals()['Tgt_states{}'.format(case)][n] = np.array(Tgt_state, dtype = np.float32) #            (1,3)\n",
    "            globals()['missDs{}'.format(case)][n] = np.array(missD, dtype = np.float32)         #            (1,1)\n",
    "            globals()['tfs{}'.format(case)][n] = np.array(tf, dtype = np.float32) #    (1,1)\n",
    "\n",
    "    # 모델에 넣고 돌리려면 float32로의 변환이 반드시 필요함!!!\n",
    "    # 가속도 명령, 각속도 명령에 대한 값도 저장을 해야함"
   ]
  },
  {
   "cell_type": "code",
   "execution_count": 186,
   "metadata": {
    "scrolled": false
   },
   "outputs": [
    {
     "name": "stdout",
     "output_type": "stream",
     "text": [
      "(2504, 13)\n",
      "(2504, 4)\n",
      "(1, 3)\n",
      "(1, 1)\n",
      "(1, 1)\n"
     ]
    }
   ],
   "source": [
    "# check data shape\n",
    "print(Msl_states0[0].shape)\n",
    "print(Msl_actions0[0].shape)\n",
    "print(Tgt_states0[0].shape)\n",
    "print(missDs0[0].shape)\n",
    "print(tfs0[0].shape)"
   ]
  },
  {
   "cell_type": "markdown",
   "metadata": {},
   "source": [
    "# 3. Saving Data\n",
    "- .pkl로 저장해서 non time-series, time-series data 다루기 편하게 바꾸기\n",
    "- 비정상 데이터의 오차 원인\n",
    " 0. 정상 : normalPNG\n",
    " 1. 발사대 : magVm\n",
    " 2. 공력 : delXcp\n",
    " 3. 추진 : Tilt\n",
    " 4. 구동체 : FinBias"
   ]
  },
  {
   "cell_type": "code",
   "execution_count": 187,
   "metadata": {},
   "outputs": [],
   "source": [
    "# Ssve data into pickle\n",
    "\n",
    "normalPNG = {'states':Msl_states0, 'actions': Msl_actions0, 'target states':Tgt_states0, \"missD\": missDs0, 'terminal time':tfs0, 'index':Nsamples*[np.array([[0]])]}\n",
    "magVm = {'states':Msl_states1, 'actions': Msl_actions1, 'target states':Tgt_states1, \"missD\": missDs1, 'terminal time':tfs1, 'index':Nsamples*[np.array([[1]])]}\n",
    "delXcp = {'states':Msl_states2, 'actions': Msl_actions2, 'target states':Tgt_states2, \"missD\": missDs2, 'terminal time':tfs2, 'index':Nsamples*[np.array([[2]])]}\n",
    "Tilt = {'states':Msl_states3, 'actions': Msl_actions3, 'target states':Tgt_states3, \"missD\": missDs3, 'terminal time':tfs3, 'index':Nsamples*[np.array([[3]])]}\n",
    "FinBias = {'states':Msl_states4, 'actions': Msl_actions4, 'target states':Tgt_states4, \"missD\": missDs4, 'terminal time':tfs4, 'index':Nsamples*[np.array([[4]])]}\n",
    "\n",
    "unspecified_data = {'normalPNG':normalPNG, 'magVm':magVm, 'delXcp':delXcp, 'Tilt':Tilt, 'FinBias':FinBias}\n",
    "\n",
    "os.makedirs('./Dataset/unspecified', exist_ok = True)\n",
    "with open('./Dataset/unspecified/unspecified.pickle','wb') as f:\n",
    "    pickle.dump(unspecified_data,f)"
   ]
  },
  {
   "cell_type": "markdown",
   "metadata": {},
   "source": [
    "# 4. Training, validation and  test data seperation\n",
    "- pickle 파일로 저장\n",
    "- dictionary keys : states, actions, missD, index"
   ]
  },
  {
   "cell_type": "code",
   "execution_count": 188,
   "metadata": {},
   "outputs": [],
   "source": [
    "# load data\n",
    "with open('./Dataset/unspecified/unspecified.pickle', 'rb') as f:\n",
    "    Dataset = pickle.load(f)"
   ]
  },
  {
   "cell_type": "code",
   "execution_count": 189,
   "metadata": {},
   "outputs": [
    {
     "name": "stdout",
     "output_type": "stream",
     "text": [
      "==============================================================================\n",
      "Total Datasets : 2500\n",
      "------------------------------------------------------------------------------\n",
      "train : 1500 \n",
      "validation : 500 \n",
      "test : 500\n",
      "Data index \n",
      " [0, 1, 3, 5, 6, 7, 9, 10, 11, 12, 13, 14, 15, 17, 18, 19, 23, 25, 26, 27, 28, 29, 31, 35, 36, 37, 38, 39, 40, 41, 42, 44, 46, 47, 48, 52, 53, 54, 55, 56, 59, 60, 61, 62, 66, 68, 69, 70, 77, 78, 79, 85, 86, 89, 90, 91, 92, 93, 96, 98, 99, 101, 102, 103, 104, 106, 107, 108, 109, 111, 113, 114, 116, 122, 123, 125, 127, 128, 131, 132, 133, 134, 135, 136, 137, 138, 140, 146, 147, 150, 151, 152, 153, 155, 158, 159, 162, 163, 164, 165, 169, 170, 172, 173, 174, 177, 179, 180, 181, 182, 185, 188, 192, 193, 195, 200, 203, 206, 207, 208, 211, 213, 214, 215, 218, 219, 220, 221, 223, 224, 226, 228, 231, 232, 233, 235, 236, 237, 239, 240, 242, 243, 246, 247, 248, 249, 250, 251, 253, 254, 256, 257, 259, 260, 261, 262, 263, 265, 266, 267, 269, 270, 272, 273, 277, 279, 280, 281, 282, 284, 286, 288, 289, 290, 291, 294, 295, 297, 301, 302, 303, 304, 305, 306, 307, 308, 309, 312, 313, 314, 316, 319, 320, 321, 322, 323, 324, 327, 328, 330, 331, 335, 336, 337, 341, 343, 344, 347, 348, 349, 350, 352, 353, 354, 356, 357, 358, 359, 361, 363, 364, 365, 369, 370, 371, 372, 373, 374, 377, 379, 380, 381, 382, 385, 387, 388, 389, 390, 393, 397, 399, 400, 403, 404, 405, 409, 410, 411, 412, 413, 414, 416, 417, 418, 419, 420, 423, 425, 427, 428, 430, 434, 438, 440, 441, 442, 443, 448, 450, 451, 453, 455, 456, 457, 458, 459, 466, 467, 468, 469, 470, 471, 472, 473, 474, 475, 477, 478, 479, 481, 485, 486, 491, 493, 494, 495, 496, 497, 498, 499] \n",
      " [16, 20, 21, 30, 32, 33, 34, 43, 50, 58, 63, 64, 65, 67, 73, 74, 83, 87, 88, 95, 97, 100, 105, 110, 115, 121, 124, 126, 130, 141, 142, 149, 154, 156, 157, 191, 196, 199, 202, 204, 205, 210, 227, 229, 238, 241, 245, 252, 258, 264, 268, 271, 276, 283, 293, 296, 300, 311, 315, 317, 318, 325, 329, 339, 340, 342, 355, 362, 366, 368, 375, 376, 378, 383, 384, 386, 394, 398, 402, 406, 408, 424, 426, 429, 433, 435, 436, 437, 439, 444, 445, 447, 449, 461, 463, 464, 476, 483, 484, 488] \n",
      " [2, 4, 8, 22, 24, 45, 49, 51, 57, 71, 72, 75, 76, 80, 81, 82, 84, 94, 112, 117, 118, 119, 120, 129, 139, 143, 144, 145, 148, 160, 161, 166, 167, 168, 171, 175, 176, 178, 183, 184, 186, 187, 189, 190, 194, 197, 198, 201, 209, 212, 216, 217, 222, 225, 230, 234, 244, 255, 274, 275, 278, 285, 287, 292, 298, 299, 310, 326, 332, 333, 334, 338, 345, 346, 351, 360, 367, 391, 392, 395, 396, 401, 407, 415, 421, 422, 431, 432, 446, 452, 454, 460, 462, 465, 480, 482, 487, 489, 490, 492]\n",
      "==============================================================================\n"
     ]
    }
   ],
   "source": [
    "# save train, val, test data\n",
    "TrainTestDataSeperator(Dataset, train = 60, validation = 20)"
   ]
  },
  {
   "cell_type": "code",
   "execution_count": 190,
   "metadata": {},
   "outputs": [],
   "source": [
    "# plotting 하는 데이터 필요함\n"
   ]
  },
  {
   "cell_type": "code",
   "execution_count": 191,
   "metadata": {},
   "outputs": [
    {
     "data": {
      "text/plain": [
       "dict_keys(['normalPNG', 'magVm', 'delXcp', 'Tilt', 'FinBias'])"
      ]
     },
     "execution_count": 191,
     "metadata": {},
     "output_type": "execute_result"
    }
   ],
   "source": [
    "Dataset.keys()"
   ]
  },
  {
   "cell_type": "code",
   "execution_count": 192,
   "metadata": {},
   "outputs": [
    {
     "data": {
      "text/plain": [
       "dict_keys(['states', 'actions', 'target states', 'missD', 'terminal time', 'index'])"
      ]
     },
     "execution_count": 192,
     "metadata": {},
     "output_type": "execute_result"
    }
   ],
   "source": [
    "Dataset['normalPNG'].keys()"
   ]
  },
  {
   "cell_type": "code",
   "execution_count": 193,
   "metadata": {},
   "outputs": [
    {
     "data": {
      "text/plain": [
       "list"
      ]
     },
     "execution_count": 193,
     "metadata": {},
     "output_type": "execute_result"
    }
   ],
   "source": [
    "type(Dataset['normalPNG']['states'])"
   ]
  },
  {
   "cell_type": "code",
   "execution_count": 194,
   "metadata": {},
   "outputs": [
    {
     "data": {
      "text/plain": [
       "500"
      ]
     },
     "execution_count": 194,
     "metadata": {},
     "output_type": "execute_result"
    }
   ],
   "source": [
    "len(Dataset['normalPNG']['states'])"
   ]
  },
  {
   "cell_type": "code",
   "execution_count": 195,
   "metadata": {},
   "outputs": [
    {
     "data": {
      "text/plain": [
       "(2504, 13)"
      ]
     },
     "execution_count": 195,
     "metadata": {},
     "output_type": "execute_result"
    }
   ],
   "source": [
    "Dataset['normalPNG']['states'][0].shape"
   ]
  },
  {
   "cell_type": "code",
   "execution_count": 196,
   "metadata": {},
   "outputs": [
    {
     "data": {
      "text/plain": [
       "(1, 3)"
      ]
     },
     "execution_count": 196,
     "metadata": {},
     "output_type": "execute_result"
    }
   ],
   "source": [
    "Dataset['normalPNG']['target states'][0].shape"
   ]
  },
  {
   "cell_type": "markdown",
   "metadata": {},
   "source": [
    "# 5. Test Dataset 추가\n"
   ]
  },
  {
   "cell_type": "code",
   "execution_count": 197,
   "metadata": {},
   "outputs": [],
   "source": [
    "if dataV == 'old':\n",
    "    Ncases = 5\n",
    "    Nsamples = 500\n",
    "    Addsam = 128\n",
    "\n",
    "    # Set directory\n",
    "    base_dir = './Dataset_original/Missile Data_20211129'\n",
    "\n",
    "    for case in tqdm(range(Ncases)):\n",
    "        # Set excel file directory\n",
    "        Msl_excel_file = 'Msl_'+str(case+1)+'.xlsx'\n",
    "        Ctrl_excel_file = 'Gid_'+str(case+1)+'.xlsx'\n",
    "        Tgt_excel_file = 'Tgt_'+str(case+1)+'.xlsx'\n",
    "        Result_excel_file = 'Result_'+str(case+1)+'.xlsx'\n",
    "\n",
    "        Msl_excel_dir = os.path.join(base_dir, Msl_excel_file)\n",
    "        Ctrl_excel_dir = os.path.join(base_dir, Ctrl_excel_file)\n",
    "        Tgt_excel_dir = os.path.join(base_dir, Tgt_excel_file)\n",
    "        Result_excel_dir = os.path.join(base_dir, Result_excel_file)\n",
    "\n",
    "        # Read excel files\n",
    "        globals()['Msl_collections{}'.format(case)] =  pd.read_excel(Msl_excel_dir, sheet_name = None, engine = 'openpyxl')\n",
    "        globals()['Ctrl_collections{}'.format(case)] =  pd.read_excel(Ctrl_excel_dir, sheet_name = None, engine = 'openpyxl')\n",
    "        globals()['Tgt_collections{}'.format(case)] =  pd.read_excel(Tgt_excel_dir, sheet_name = None, engine = 'openpyxl')\n",
    "        globals()['Result_collections{}'.format(case)] =  pd.read_excel(Result_excel_dir, sheet_name = None, engine = 'openpyxl')"
   ]
  },
  {
   "cell_type": "code",
   "execution_count": 198,
   "metadata": {},
   "outputs": [],
   "source": [
    "if dataV == 'old':\n",
    "    # Data Upsampling for normalPNG\n",
    "    Nsamples = 140\n",
    "    for n in range(Nsamples,Nsamples+Addsam):\n",
    "        Msl_collections0['Sheet{}'.format(n+1)]= Msl_collections0['Sheet1']\n",
    "        Ctrl_collections0['Sheet{}'.format(n+1)] = Ctrl_collections0['Sheet1']\n",
    "        Tgt_collections0['Sheet{}'.format(n+1)] = Tgt_collections0['Sheet1']\n",
    "        Result_collections0['Sheet{}'.format(n+1)] = Result_collections0['Sheet1']"
   ]
  },
  {
   "cell_type": "code",
   "execution_count": 199,
   "metadata": {},
   "outputs": [],
   "source": [
    "if dataV == 'old':\n",
    "    for case in tqdm(range(Ncases)):\n",
    "        globals()['Msl_states{}'.format(case)] = [[]for i in range(128)]\n",
    "        globals()['Msl_actions{}'.format(case)] = [[]for i in range(128)]\n",
    "        globals()['Tgt_states{}'.format(case)] = [[]for i in range(128)]\n",
    "        globals()['missDs{}'.format(case)] = [[]for i in range(128)]\n",
    "        globals()['tfs{}'.format(case)] = [[]for i in range(128)]\n",
    "\n",
    "        for n in range(Nsamples,Nsamples+128):\n",
    "            Msl_state = globals()['Msl_collections{}'.format(case)]['Sheet'+str(n+1)][['Time','Accm_1','Accm_2','Accm_3','angEuler_1','angEuler_2','angEuler_3',\n",
    "                                    'Rmi_1','Rmi_2','Rmi_3','Vmi_1','Vmi_2','Vmi_3']].values\n",
    "            Msl_action = globals()['Ctrl_collections{}'.format(case)]['Sheet'+str(n+1)][['Accm_Cmd_1','Accm_Cmd_2','Accm_Cmd_3','Phi_Cmd']].values\n",
    "            Tgt_state = globals()['Tgt_collections{}'.format(case)]['Sheet'+str(n+1)][['Rtio_1','Rtio_2','Rtio_3']].values\n",
    "            missD = globals()['Result_collections{}'.format(case)]['Sheet'+str(n+1)][['MD']].values\n",
    "            tf = globals()['Result_collections{}'.format(case)]['Sheet'+str(n+1)][['Time']].values\n",
    "\n",
    "            globals()['Msl_states{}'.format(case)][n-Nsamples] = np.array(Msl_state, dtype = np.float32) # data shape (timestep, 13)\n",
    "            globals()['Msl_actions{}'.format(case)][n-Nsamples] = np.array(Msl_action, dtype = np.float32) # data shape (timestep, 3)\n",
    "            globals()['Tgt_states{}'.format(case)][n-Nsamples] = np.array(Tgt_state, dtype = np.float32) #            (1,3)\n",
    "            globals()['missDs{}'.format(case)][n-Nsamples] = np.array(missD, dtype = np.float32)         #            (1,1)\n",
    "            globals()['tfs{}'.format(case)][n-Nsamples] = np.array(tf, dtype = np.float32) #    (1,1)\n",
    "\n",
    "    # 모델에 넣고 돌리려면 float32로의 변환이 반드시 필요함!!!\n",
    "    # 가속도 명령, 각속도 명령에 대한 값도 저장을 해야함"
   ]
  },
  {
   "cell_type": "code",
   "execution_count": 200,
   "metadata": {},
   "outputs": [],
   "source": [
    "if dataV == 'old':\n",
    "    # Ssve data into pickle\n",
    "\n",
    "    normalPNG = {'states':Msl_states0, 'actions': Msl_actions0, 'target states':Tgt_states0, \"missD\": missDs0, 'terminal time':tfs0, 'index':Nsamples*[np.array([[0]])]}\n",
    "    magVm = {'states':Msl_states1, 'actions': Msl_actions1, 'target states':Tgt_states1, \"missD\": missDs1, 'terminal time':tfs1, 'index':Nsamples*[np.array([[1]])]}\n",
    "    delXcp = {'states':Msl_states2, 'actions': Msl_actions2, 'target states':Tgt_states2, \"missD\": missDs2, 'terminal time':tfs2, 'index':Nsamples*[np.array([[2]])]}\n",
    "    Tilt = {'states':Msl_states3, 'actions': Msl_actions3, 'target states':Tgt_states3, \"missD\": missDs3, 'terminal time':tfs3, 'index':Nsamples*[np.array([[3]])]}\n",
    "    FinBias = {'states':Msl_states4, 'actions': Msl_actions4, 'target states':Tgt_states4, \"missD\": missDs4, 'terminal time':tfs4, 'index':Nsamples*[np.array([[4]])]}\n",
    "\n",
    "    unspecified_data = {'normalPNG':normalPNG, 'magVm':magVm, 'delXcp':delXcp, 'Tilt':Tilt, 'FinBias':FinBias}\n",
    "\n",
    "    os.makedirs('./Dataset_original/unspecified_test', exist_ok = True)\n",
    "    with open('./Dataset_original/unspecified_test/unspecified_test.pickle','wb') as f:\n",
    "        pickle.dump(unspecified_data,f)"
   ]
  },
  {
   "cell_type": "code",
   "execution_count": 201,
   "metadata": {},
   "outputs": [],
   "source": [
    "if dataV == 'old':\n",
    "    # load data\n",
    "    with open('./Dataset_original/unspecified_test/unspecified_test.pickle', 'rb') as f:\n",
    "        Dataset = pickle.load(f)"
   ]
  },
  {
   "cell_type": "code",
   "execution_count": 202,
   "metadata": {},
   "outputs": [],
   "source": [
    "if dataV == 'old':\n",
    "    # save train, val, test data\n",
    "    TrainTestDataSeperator(Dataset, train = 0, validation = 0)"
   ]
  },
  {
   "cell_type": "code",
   "execution_count": null,
   "metadata": {},
   "outputs": [],
   "source": []
  }
 ],
 "metadata": {
  "kernelspec": {
   "display_name": "Python 3 (ipykernel)",
   "language": "python",
   "name": "python3"
  },
  "language_info": {
   "codemirror_mode": {
    "name": "ipython",
    "version": 3
   },
   "file_extension": ".py",
   "mimetype": "text/x-python",
   "name": "python",
   "nbconvert_exporter": "python",
   "pygments_lexer": "ipython3",
   "version": "3.8.10"
  }
 },
 "nbformat": 4,
 "nbformat_minor": 2
}
